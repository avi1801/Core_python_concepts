{
 "cells": [
  {
   "cell_type": "markdown",
   "metadata": {},
   "source": [
    "# Loop means repeatition "
   ]
  },
  {
   "cell_type": "markdown",
   "metadata": {},
   "source": [
    "* for\n",
    "* while\n",
    "* Nested "
   ]
  },
  {
   "cell_type": "markdown",
   "metadata": {},
   "source": [
    "# For Loop\n",
    "* with range\n",
    "* for transversal"
   ]
  },
  {
   "cell_type": "markdown",
   "metadata": {},
   "source": [
    "# range\n",
    "* It is in built functionwhich generates the sequences of elements "
   ]
  },
  {
   "cell_type": "markdown",
   "metadata": {},
   "source": [
    "# In range it contain three agruments (start,end,step size)"
   ]
  },
  {
   "cell_type": "code",
   "execution_count": 1,
   "metadata": {},
   "outputs": [
    {
     "data": {
      "text/plain": [
       "[0, 1, 2, 3]"
      ]
     },
     "execution_count": 1,
     "metadata": {},
     "output_type": "execute_result"
    }
   ],
   "source": [
    "list(range(4))   ## 4 is treated as end, end=end-1"
   ]
  },
  {
   "cell_type": "code",
   "execution_count": 2,
   "metadata": {},
   "outputs": [
    {
     "data": {
      "text/plain": [
       "[1, 2, 3, 4, 5, 6, 7]"
      ]
     },
     "execution_count": 2,
     "metadata": {},
     "output_type": "execute_result"
    }
   ],
   "source": [
    "list(range(1,8))"
   ]
  },
  {
   "cell_type": "code",
   "execution_count": 3,
   "metadata": {},
   "outputs": [
    {
     "data": {
      "text/plain": [
       "[2, 3, 4, 5, 6, 7]"
      ]
     },
     "execution_count": 3,
     "metadata": {},
     "output_type": "execute_result"
    }
   ],
   "source": [
    "list(range(2,8))"
   ]
  },
  {
   "cell_type": "code",
   "execution_count": 4,
   "metadata": {},
   "outputs": [
    {
     "data": {
      "text/plain": [
       "[2, 4, 6, 8]"
      ]
     },
     "execution_count": 4,
     "metadata": {},
     "output_type": "execute_result"
    }
   ],
   "source": [
    "list(range(2,10,2))"
   ]
  },
  {
   "cell_type": "code",
   "execution_count": 5,
   "metadata": {},
   "outputs": [
    {
     "data": {
      "text/plain": [
       "[]"
      ]
     },
     "execution_count": 5,
     "metadata": {},
     "output_type": "execute_result"
    }
   ],
   "source": [
    "list(range(10,0))    ## it empty because the flow backward and in backward it is mandatory to mention all three agrument  "
   ]
  },
  {
   "cell_type": "code",
   "execution_count": 6,
   "metadata": {},
   "outputs": [
    {
     "data": {
      "text/plain": [
       "[10, 9, 8, 7, 6, 5, 4, 3, 2, 1]"
      ]
     },
     "execution_count": 6,
     "metadata": {},
     "output_type": "execute_result"
    }
   ],
   "source": [
    "list(range(10,0,-1))"
   ]
  },
  {
   "cell_type": "code",
   "execution_count": 7,
   "metadata": {},
   "outputs": [
    {
     "data": {
      "text/plain": [
       "[10, 8, 6, 4, 2]"
      ]
     },
     "execution_count": 7,
     "metadata": {},
     "output_type": "execute_result"
    }
   ],
   "source": [
    "list(range(10,0,-2))"
   ]
  },
  {
   "cell_type": "markdown",
   "metadata": {},
   "source": [
    "WAP to display the hello 10 times "
   ]
  },
  {
   "cell_type": "markdown",
   "metadata": {},
   "source": [
    "# WAP to display the sequence of numbers in alternate manner \n"
   ]
  },
  {
   "cell_type": "code",
   "execution_count": 2,
   "metadata": {},
   "outputs": [
    {
     "name": "stdout",
     "output_type": "stream",
     "text": [
      "enter the start10\n",
      "enter the end20\n",
      "10 12 14 16 18 20 "
     ]
    }
   ],
   "source": [
    "start=int(input(\"enter the start\" ))\n",
    "end=int(input(\"enter the end\" ))\n",
    "for i in range(start,end+1,2):\n",
    "    print(i,end=\" \")\n"
   ]
  },
  {
   "cell_type": "markdown",
   "metadata": {},
   "source": [
    "# Wap to generate this sequence 6,11,16,21,26,31.........51\n"
   ]
  },
  {
   "cell_type": "code",
   "execution_count": 4,
   "metadata": {},
   "outputs": [
    {
     "name": "stdout",
     "output_type": "stream",
     "text": [
      "enter the start6\n",
      "enter the end51\n",
      "6 11 16 21 26 31 36 41 46 51 "
     ]
    }
   ],
   "source": [
    "start=int(input(\"enter the start\" ))\n",
    "end=int(input(\"enter the end\" ))\n",
    "for i in range(start,end+1,5):\n",
    "    print(i,end=\" \")\n"
   ]
  },
  {
   "cell_type": "code",
   "execution_count": 3,
   "metadata": {},
   "outputs": [
    {
     "name": "stdout",
     "output_type": "stream",
     "text": [
      "6\n",
      "11\n",
      "16\n",
      "21\n",
      "26\n",
      "31\n",
      "36\n",
      "41\n",
      "46\n",
      "51\n"
     ]
    }
   ],
   "source": [
    "for i in range(6,52,5):\n",
    "    print(i)"
   ]
  },
  {
   "cell_type": "markdown",
   "metadata": {},
   "source": [
    "# wap to generate this sequence 1,4,9,16,25,36........"
   ]
  },
  {
   "cell_type": "code",
   "execution_count": 4,
   "metadata": {},
   "outputs": [
    {
     "name": "stdout",
     "output_type": "stream",
     "text": [
      "enter the end6\n",
      "1\n",
      "4\n",
      "9\n",
      "16\n",
      "25\n",
      "36\n"
     ]
    }
   ],
   "source": [
    "end=int(input(\"enter the end\"))\n",
    "for i in range(1,end+1):\n",
    "    print(i**2)"
   ]
  },
  {
   "cell_type": "markdown",
   "metadata": {},
   "source": [
    "# WAP to display all the even number and odd number from the range entered by users"
   ]
  },
  {
   "cell_type": "code",
   "execution_count": 5,
   "metadata": {},
   "outputs": [
    {
     "name": "stdout",
     "output_type": "stream",
     "text": [
      "enter the Start 10\n",
      "enter the End 30\n",
      "10 is even 11 is odd 12 is even 13 is odd 14 is even 15 is odd 16 is even 17 is odd 18 is even 19 is odd 20 is even 21 is odd 22 is even 23 is odd 24 is even 25 is odd 26 is even 27 is odd 28 is even 29 is odd 30 is even "
     ]
    }
   ],
   "source": [
    "start=int(input(\"enter the Start \"))\n",
    "end=int(input(\"enter the End \"))\n",
    "for i in range(start,end+1):\n",
    "    if i%2==0:\n",
    "        print(i,\"is even\",end=\" \")\n",
    "    else:\n",
    "        print(i,\"is odd\",end=\" \")\n",
    "        "
   ]
  },
  {
   "cell_type": "markdown",
   "metadata": {},
   "source": [
    "# WAP to display magic number if the number is divisible by both 5 & 6, display normal number if it is divisible by 5 only or 6 only otherwise bye from the range entered by user "
   ]
  },
  {
   "cell_type": "code",
   "execution_count": 7,
   "metadata": {},
   "outputs": [
    {
     "name": "stdout",
     "output_type": "stream",
     "text": [
      "enter the start 5\n",
      "enter the end 30\n",
      "5 is normal number\n",
      "6 is normal number\n",
      "bye\n",
      "bye\n",
      "bye\n",
      "10 is normal number\n",
      "bye\n",
      "12 is normal number\n",
      "bye\n",
      "bye\n",
      "15 is normal number\n",
      "bye\n",
      "bye\n",
      "18 is normal number\n",
      "bye\n",
      "20 is normal number\n",
      "bye\n",
      "bye\n",
      "bye\n",
      "24 is normal number\n",
      "25 is normal number\n",
      "bye\n",
      "bye\n",
      "bye\n",
      "bye\n",
      "30 is magic number\n"
     ]
    }
   ],
   "source": [
    "start=int(input(\"enter the start \"))\n",
    "end=int(input(\"enter the end \"))\n",
    "for i in range(start,end+1):\n",
    "    if i%5==0 and i%6==0:\n",
    "            print(i,\"is magic number\")\n",
    "    elif i%5==0:\n",
    "        print(i,\"is normal number\")\n",
    "    elif i%6==0:\n",
    "        print(i,\"is normal number\")\n",
    "    else:\n",
    "        print(\"bye\")"
   ]
  },
  {
   "cell_type": "markdown",
   "metadata": {},
   "source": [
    "# WAP to count the even number and odd number and also print"
   ]
  },
  {
   "cell_type": "code",
   "execution_count": 13,
   "metadata": {},
   "outputs": [
    {
     "name": "stdout",
     "output_type": "stream",
     "text": [
      "enter the Start 5\n",
      "enter the End 19\n",
      "5 odd\n",
      "6 even\n",
      "7 odd\n",
      "8 even\n",
      "9 odd\n",
      "10 even\n",
      "11 odd\n",
      "12 even\n",
      "13 odd\n",
      "14 even\n",
      "15 odd\n",
      "16 even\n",
      "17 odd\n",
      "18 even\n",
      "19 odd\n",
      "the even count is 8\n",
      "the odd count is 9\n"
     ]
    }
   ],
   "source": [
    "start=int(input(\"enter the Start \"))\n",
    "end=int(input(\"enter the End \"))\n",
    "count_e=0\n",
    "count_o=0\n",
    "for i in range(start,end+1):\n",
    "    if i%2==0:\n",
    "        print(i,\"even\")\n",
    "        count_e=count_e+1\n",
    "    else:\n",
    "        print(i,\"odd\")\n",
    "        count_o=count_o+1\n",
    "print(\"the even count is\",count_e+1)\n",
    "print(\"the odd count is\",count_o+1)"
   ]
  },
  {
   "cell_type": "markdown",
   "metadata": {},
   "source": [
    "# Wap to display the table of the number entered by user "
   ]
  },
  {
   "cell_type": "code",
   "execution_count": 12,
   "metadata": {},
   "outputs": [
    {
     "name": "stdout",
     "output_type": "stream",
     "text": [
      "enter the number 5\n",
      "5 * 1 = 5\n",
      "5 * 2 = 10\n",
      "5 * 3 = 15\n",
      "5 * 4 = 20\n",
      "5 * 5 = 25\n",
      "5 * 6 = 30\n",
      "5 * 7 = 35\n",
      "5 * 8 = 40\n",
      "5 * 9 = 45\n",
      "5 * 10 = 50\n"
     ]
    }
   ],
   "source": [
    "num=int(input(\"enter the number \"))\n",
    "for i in range(1,11):\n",
    "    print(num,\"*\",i,\"=\",num*i)"
   ]
  },
  {
   "cell_type": "markdown",
   "metadata": {},
   "source": [
    "# Wap to display the table of the number entered by user in reverse manner "
   ]
  },
  {
   "cell_type": "markdown",
   "metadata": {},
   "source": [
    "# WAP to display the factors of the number entered by user and also display the count of factors "
   ]
  },
  {
   "cell_type": "code",
   "execution_count": 14,
   "metadata": {},
   "outputs": [
    {
     "name": "stdout",
     "output_type": "stream",
     "text": [
      "enter the number 15\n",
      "1 is the factor of  15\n",
      "3 is the factor of  15\n",
      "5 is the factor of  15\n",
      "15 is the factor of  15\n",
      "the factors count of  15 is 4\n"
     ]
    }
   ],
   "source": [
    "num=int(input(\"enter the number \"))\n",
    "count=0\n",
    "for i in range(1, num+1):\n",
    "    if num%i==0:                                   ### jo tumhari range hogi vahi i bhi hoga \n",
    "        print(i,\"is the factor of \", num)\n",
    "        count=count+1\n",
    "print(\"the factors count of \",num,\"is\",count)"
   ]
  },
  {
   "cell_type": "markdown",
   "metadata": {},
   "source": [
    "# WAP to display wheather the entered number is prime or composite "
   ]
  },
  {
   "cell_type": "code",
   "execution_count": 15,
   "metadata": {},
   "outputs": [
    {
     "name": "stdout",
     "output_type": "stream",
     "text": [
      "enter the number 23\n",
      "1 is the factor of  23\n",
      "23 is the factor of  23\n",
      "23 is prime\n"
     ]
    }
   ],
   "source": [
    "num=int(input(\"enter the number \"))\n",
    "count=0\n",
    "for i in range(1, num+1):\n",
    "    if num%i==0:\n",
    "        print(i,\"is the factor of \", num)\n",
    "        count=count+1\n",
    "if count==2:\n",
    "    print(num,\"is prime\")\n",
    "else:\n",
    "    print(num,\"is cmposite\")"
   ]
  },
  {
   "cell_type": "markdown",
   "metadata": {},
   "source": [
    "# Loop in Transerver"
   ]
  },
  {
   "cell_type": "markdown",
   "metadata": {},
   "source": [
    "# WAP to display and count the vowels "
   ]
  },
  {
   "cell_type": "code",
   "execution_count": 18,
   "metadata": {},
   "outputs": [
    {
     "name": "stdout",
     "output_type": "stream",
     "text": [
      "enter the wordavishekh\n",
      "a is vowel\n",
      "v is not vowel\n",
      "i is vowel\n",
      "s is not vowel\n",
      "h is not vowel\n",
      "e is vowel\n",
      "k is not vowel\n",
      "h is not vowel\n",
      "the number of vowels is  3\n",
      "the number of other character is  5\n"
     ]
    }
   ],
   "source": [
    "s=input(\"enter the word\" )\n",
    "count_v=0\n",
    "count_o=0\n",
    "for i in s:\n",
    "    if i in (\"aeiouAEIOU\"):\n",
    "        print(i,\"is vowel\")\n",
    "        count_v=count_v+1\n",
    "    else:\n",
    "        print(i,\"is not vowel\")\n",
    "        count_o=count_o+1\n",
    "print(\"the number of vowels is \",count_v)\n",
    "print(\"the number of other character is \",count_o)"
   ]
  },
  {
   "cell_type": "markdown",
   "metadata": {},
   "source": [
    "# Wap to count the number of even and odd numbers in the list"
   ]
  },
  {
   "cell_type": "code",
   "execution_count": 20,
   "metadata": {},
   "outputs": [
    {
     "name": "stdout",
     "output_type": "stream",
     "text": [
      "the total even count is 2\n",
      "the total odd count is 3\n"
     ]
    }
   ],
   "source": [
    "l=[123,155,126,129,330]\n",
    "count_e=0\n",
    "count_o=0\n",
    "for i in l:\n",
    "    if i%2==0:\n",
    "        count_e=count_e+1\n",
    "    else:\n",
    "        count_o=count_o+1\n",
    "print(\"the total even count is\",count_e)\n",
    "print(\"the total odd count is\",count_o)"
   ]
  },
  {
   "cell_type": "markdown",
   "metadata": {},
   "source": [
    "# Wap to display the dum of all number present in the list"
   ]
  },
  {
   "cell_type": "code",
   "execution_count": 21,
   "metadata": {},
   "outputs": [
    {
     "data": {
      "text/plain": [
       "796"
      ]
     },
     "execution_count": 21,
     "metadata": {},
     "output_type": "execute_result"
    }
   ],
   "source": [
    "l=[10,15,236,525,10]\n",
    "sum(l)"
   ]
  },
  {
   "cell_type": "code",
   "execution_count": 22,
   "metadata": {},
   "outputs": [
    {
     "name": "stdout",
     "output_type": "stream",
     "text": [
      "the sum is 796\n"
     ]
    }
   ],
   "source": [
    "add=0\n",
    "for i in l:\n",
    "    add=add+i\n",
    "print(\"the sum is\", add)"
   ]
  },
  {
   "cell_type": "markdown",
   "metadata": {},
   "source": [
    "# WAP to sum and avg of those numbers in the range entered by user "
   ]
  },
  {
   "cell_type": "code",
   "execution_count": 2,
   "metadata": {},
   "outputs": [
    {
     "name": "stdout",
     "output_type": "stream",
     "text": [
      "enter the number6\n",
      "the Sum is  21\n",
      "the Avg is  3.5\n"
     ]
    }
   ],
   "source": [
    "num=int(input(\"enter the number\"))\n",
    "add=0\n",
    "count=0\n",
    "for i in range(1,num+1):\n",
    "    add=add+i\n",
    "    count=count+1\n",
    "avg=add/count\n",
    "print(\"the Sum is \",add)\n",
    "print(\"the Avg is \",avg)\n",
    "\n"
   ]
  },
  {
   "cell_type": "markdown",
   "metadata": {},
   "source": [
    "# Wap to display the sum of even numbers and multiplication of odd number present in the list"
   ]
  },
  {
   "cell_type": "code",
   "execution_count": 10,
   "metadata": {},
   "outputs": [
    {
     "name": "stdout",
     "output_type": "stream",
     "text": [
      "enter the start number 1\n",
      "enter the end number 5\n",
      "the num 1 is odd\n",
      "the num 2 is even\n",
      "the num 3 is odd\n",
      "the num 4 is even\n",
      "the num 5 is odd\n",
      "the multiplication is  15\n",
      "the Sum is  6\n"
     ]
    }
   ],
   "source": [
    "start=int(input(\"enter the start number \"))\n",
    "end=int(input(\"enter the end number \"))\n",
    "add=0\n",
    "multi=1\n",
    "for i in range(start,end+1):\n",
    "    if i%2==0:\n",
    "        print(\"the num\",i,\"is even\")\n",
    "        add=add+i \n",
    "    else:\n",
    "        print(\"the num\",i,\"is odd\")\n",
    "        multi=multi*i\n",
    "print(\"the multiplication is \",multi)\n",
    "print(\"the Sum is \",add)        "
   ]
  },
  {
   "cell_type": "code",
   "execution_count": 4,
   "metadata": {},
   "outputs": [
    {
     "name": "stdout",
     "output_type": "stream",
     "text": [
      "the num 1 is odd\n",
      "the num 5 is odd\n",
      "the num 6 is even\n",
      "the num 2 is even\n",
      "the num 8 is even\n",
      "the multiplication is  5\n",
      "the Sum is  16\n"
     ]
    }
   ],
   "source": [
    "l=[1,5,6,2,8]\n",
    "add=0\n",
    "multi=1\n",
    "for i in l:\n",
    "    if i%2==0:\n",
    "        print(\"the num\",i,\"is even\")\n",
    "        add=add+i \n",
    "    else:\n",
    "        print(\"the num\",i,\"is odd\")\n",
    "        multi=multi*i\n",
    "print(\"the multiplication is \",multi)\n",
    "print(\"the Sum is \",add) \n"
   ]
  },
  {
   "cell_type": "code",
   "execution_count": 1,
   "metadata": {},
   "outputs": [
    {
     "name": "stdout",
     "output_type": "stream",
     "text": [
      " Please Enter any Number: 15\n",
      " 3 is a Prime Factor of a Given Number 15\n",
      " 5 is a Prime Factor of a Given Number 15\n"
     ]
    }
   ],
   "source": [
    "Number = int(input(\" Please Enter any Number: \"))\n",
    "\n",
    "for i in range(2, Number + 1):\n",
    "    if(Number % i == 0):\n",
    "        isprime = 1\n",
    "        for j in range(2, (i //2 + 1)):\n",
    "            if(i % j == 0):\n",
    "                isprime = 0\n",
    "                break\n",
    "            \n",
    "        if (isprime == 1):\n",
    "            print(\" %d is a Prime Factor of a Given Number %d\" %(i, Number))"
   ]
  },
  {
   "cell_type": "code",
   "execution_count": null,
   "metadata": {},
   "outputs": [],
   "source": []
  }
 ],
 "metadata": {
  "kernelspec": {
   "display_name": "Python 3",
   "language": "python",
   "name": "python3"
  },
  "language_info": {
   "codemirror_mode": {
    "name": "ipython",
    "version": 3
   },
   "file_extension": ".py",
   "mimetype": "text/x-python",
   "name": "python",
   "nbconvert_exporter": "python",
   "pygments_lexer": "ipython3",
   "version": "3.8.5"
  }
 },
 "nbformat": 4,
 "nbformat_minor": 4
}
