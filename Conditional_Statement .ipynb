{
 "cells": [
  {
   "cell_type": "markdown",
   "metadata": {},
   "source": [
    "# Control Statements \n",
    " *  Braching statments allows us to over some statements, execute a series of statements repetitively or choose btw alternate sets of statements to excute.\n",
    "     * Conditioanl Statements\n",
    "     * Looping Statements "
   ]
  },
  {
   "cell_type": "markdown",
   "metadata": {},
   "source": [
    "## Conditional Statements "
   ]
  },
  {
   "cell_type": "markdown",
   "metadata": {},
   "source": [
    "let suppose we are planning a trip to Goa \n",
    "but I'll go only when distance is greater than 400 or I'll stay at home "
   ]
  },
  {
   "cell_type": "markdown",
   "metadata": {},
   "source": [
    "### 1. If \n"
   ]
  },
  {
   "cell_type": "code",
   "execution_count": 2,
   "metadata": {},
   "outputs": [
    {
     "name": "stdout",
     "output_type": "stream",
     "text": [
      "enter the distance456\n",
      "I'll go for outing\n"
     ]
    }
   ],
   "source": [
    " distance=int(input(\"enter the distance\"))\n",
    "if distance>400:\n",
    "    print(\"I'll go for outing\")"
   ]
  },
  {
   "cell_type": "code",
   "execution_count": 3,
   "metadata": {},
   "outputs": [
    {
     "name": "stdout",
     "output_type": "stream",
     "text": [
      "enter the distance56\n"
     ]
    }
   ],
   "source": [
    " distance=int(input(\"enter the distance\"))\n",
    "if distance>400:             ### here condition got false by itself only, so returns no output\n",
    "    print(\"I'll go for outing\")"
   ]
  },
  {
   "cell_type": "code",
   "execution_count": 8,
   "metadata": {},
   "outputs": [
    {
     "name": "stdout",
     "output_type": "stream",
     "text": [
      "enter the distance56\n",
      "Avishekh\n"
     ]
    }
   ],
   "source": [
    " distance=int(input(\"enter the distance\"))\n",
    "if distance>400:\n",
    "    print(\"I'll go for outing\")\n",
    "print(\"Avishekh\")"
   ]
  },
  {
   "cell_type": "markdown",
   "metadata": {},
   "source": [
    "### 2. If-else"
   ]
  },
  {
   "cell_type": "code",
   "execution_count": 9,
   "metadata": {},
   "outputs": [
    {
     "name": "stdout",
     "output_type": "stream",
     "text": [
      "enter the distance565\n",
      "I'll go for outing\n"
     ]
    }
   ],
   "source": [
    " distance=int(input(\"enter the distance\"))\n",
    "if distance>400:\n",
    "    print(\"I'll go for outing\")\n",
    "else:\n",
    "    print(\"I'll stay at home\")"
   ]
  },
  {
   "cell_type": "code",
   "execution_count": 5,
   "metadata": {},
   "outputs": [
    {
     "name": "stdout",
     "output_type": "stream",
     "text": [
      "enter the distance96\n",
      "I'll stay at home\n"
     ]
    }
   ],
   "source": [
    " distance=int(input(\"enter the distance\"))\n",
    "if distance>400:\n",
    "    print(\"I'll go for outing\")\n",
    "else:\n",
    "    print(\"I'll stay at home\")"
   ]
  },
  {
   "cell_type": "code",
   "execution_count": 6,
   "metadata": {},
   "outputs": [
    {
     "name": "stdout",
     "output_type": "stream",
     "text": [
      "enter the distance6\n",
      "I'll stay at home\n",
      "Avishekh Kumar Gupta\n"
     ]
    }
   ],
   "source": [
    " distance=int(input(\"enter the distance\"))\n",
    "if distance>400:\n",
    "    print(\"I'll go for outing\")\n",
    "else:\n",
    "    print(\"I'll stay at home\")\n",
    "print(\"Avishekh Kumar Gupta\")     ### here it also printed this last line because once it completed the condition, it prints the next code"
   ]
  },
  {
   "cell_type": "markdown",
   "metadata": {},
   "source": [
    "### if elif\n",
    "    * used when there are multiply conditions"
   ]
  },
  {
   "cell_type": "code",
   "execution_count": 10,
   "metadata": {},
   "outputs": [
    {
     "name": "stdout",
     "output_type": "stream",
     "text": [
      "enter the distance 23\n",
      "I'll go via bike\n"
     ]
    }
   ],
   "source": [
    "distance=int(input(\"enter the distance \"))\n",
    "if distance>=0 and distance<100:\n",
    "    print(\"I'll go via bike\")\n",
    "elif distance>=100 and distance<200:\n",
    "    print(\"I'll go via cab\")\n",
    "elif distance>=200 and distance<300:\n",
    "    print(\"I'll go via bus\")\n",
    "elif distance>=300 and distance<400:\n",
    "    print(\"I'll go via train\")\n",
    "elif distance>=400:\n",
    "    print(\"I'll go via Flight\")\n",
    "    \n",
    "    "
   ]
  },
  {
   "cell_type": "code",
   "execution_count": 11,
   "metadata": {},
   "outputs": [
    {
     "name": "stdout",
     "output_type": "stream",
     "text": [
      "enter the distance 120\n",
      "I'll go via cab\n"
     ]
    }
   ],
   "source": [
    "distance=int(input(\"enter the distance \"))\n",
    "if distance>=0 and distance<100:\n",
    "    print(\"I'll go via bike\")\n",
    "elif distance>=100 and distance<200:\n",
    "    print(\"I'll go via cab\")\n",
    "elif distance>=200 and distance<300:\n",
    "    print(\"I'll go via bus\")\n",
    "elif distance>=300 and distance<400:\n",
    "    print(\"I'll go via train\")\n",
    "elif distance>=400:\n",
    "    print(\"I'll go via Flight\")\n",
    "    \n",
    "    "
   ]
  },
  {
   "cell_type": "code",
   "execution_count": 12,
   "metadata": {},
   "outputs": [
    {
     "name": "stdout",
     "output_type": "stream",
     "text": [
      "enter the distance 220\n",
      "I'll go via bus\n"
     ]
    }
   ],
   "source": [
    "distance=int(input(\"enter the distance \"))\n",
    "if distance>=0 and distance<100:\n",
    "    print(\"I'll go via bike\")\n",
    "elif distance>=100 and distance<200:\n",
    "    print(\"I'll go via cab\")\n",
    "elif distance>=200 and distance<300:\n",
    "    print(\"I'll go via bus\")\n",
    "elif distance>=300 and distance<400:\n",
    "    print(\"I'll go via train\")\n",
    "elif distance>=400:\n",
    "    print(\"I'll go via Flight\")\n",
    "    \n",
    "    "
   ]
  },
  {
   "cell_type": "code",
   "execution_count": 13,
   "metadata": {},
   "outputs": [
    {
     "name": "stdout",
     "output_type": "stream",
     "text": [
      "enter the distance 320\n",
      "I'll go via train\n"
     ]
    }
   ],
   "source": [
    "distance=int(input(\"enter the distance \"))\n",
    "if distance>=0 and distance<100:\n",
    "    print(\"I'll go via bike\")\n",
    "elif distance>=100 and distance<200:\n",
    "    print(\"I'll go via cab\")\n",
    "elif distance>=200 and distance<300:\n",
    "    print(\"I'll go via bus\")\n",
    "elif distance>=300 and distance<400:\n",
    "    print(\"I'll go via train\")\n",
    "elif distance>=400:\n",
    "    print(\"I'll go via Flight\")\n",
    "    \n",
    "    "
   ]
  },
  {
   "cell_type": "code",
   "execution_count": 14,
   "metadata": {},
   "outputs": [
    {
     "name": "stdout",
     "output_type": "stream",
     "text": [
      "enter the distance 420\n",
      "I'll go via Flight\n"
     ]
    }
   ],
   "source": [
    "distance=int(input(\"enter the distance \"))\n",
    "if distance>=0 and distance<100:\n",
    "    print(\"I'll go via bike\")\n",
    "elif distance>=100 and distance<200:\n",
    "    print(\"I'll go via cab\")\n",
    "elif distance>=200 and distance<300:\n",
    "    print(\"I'll go via bus\")\n",
    "elif distance>=300 and distance<400:\n",
    "    print(\"I'll go via train\")\n",
    "elif distance>=400:\n",
    "    print(\"I'll go via Flight\")\n",
    "    \n",
    "    "
   ]
  },
  {
   "cell_type": "code",
   "execution_count": 15,
   "metadata": {},
   "outputs": [
    {
     "name": "stdout",
     "output_type": "stream",
     "text": [
      "enter the distance 7000\n",
      "I'll go via Flight\n",
      "Avishekh\n"
     ]
    }
   ],
   "source": [
    "distance=int(input(\"enter the distance \"))\n",
    "if distance>=0 and distance<100:\n",
    "    print(\"I'll go via bike\")\n",
    "elif distance>=100 and distance<200:\n",
    "    print(\"I'll go via cab\")\n",
    "elif distance>=200 and distance<300:\n",
    "    print(\"I'll go via bus\")\n",
    "elif distance>=300 and distance<400:\n",
    "    print(\"I'll go via train\")\n",
    "elif distance>=400:\n",
    "    print(\"I'll go via Flight\")\n",
    "print(\"Avishekh\")"
   ]
  },
  {
   "cell_type": "markdown",
   "metadata": {},
   "source": [
    "### if elif else\n",
    "    * used when multiply conditions are given as well as one otherwise is also there "
   ]
  },
  {
   "cell_type": "code",
   "execution_count": 16,
   "metadata": {},
   "outputs": [
    {
     "name": "stdout",
     "output_type": "stream",
     "text": [
      "enter the distance -99\n",
      "enter vaild distance \n"
     ]
    }
   ],
   "source": [
    "distance=int(input(\"enter the distance \"))\n",
    "if distance>=0 and distance<100:\n",
    "    print(\"I'll go via bike\")\n",
    "elif distance>=100 and distance<200:\n",
    "    print(\"I'll go via cab\")\n",
    "elif distance>=200 and distance<300:\n",
    "    print(\"I'll go via bus\")\n",
    "elif distance>=300 and distance<400:\n",
    "    print(\"I'll go via train\")\n",
    "elif distance>=400:\n",
    "    print(\"I'll go via Flight\")\n",
    "else:\n",
    "    print(\"enter vaild distance \")"
   ]
  },
  {
   "cell_type": "code",
   "execution_count": 17,
   "metadata": {},
   "outputs": [
    {
     "name": "stdout",
     "output_type": "stream",
     "text": [
      "enter the distance -96\n",
      "enter vaild distance \n",
      "Avishekh\n"
     ]
    }
   ],
   "source": [
    "distance=int(input(\"enter the distance \"))\n",
    "if distance>=0 and distance<100:\n",
    "    print(\"I'll go via bike\")\n",
    "elif distance>=100 and distance<200:\n",
    "    print(\"I'll go via cab\")\n",
    "elif distance>=200 and distance<300:\n",
    "    print(\"I'll go via bus\")\n",
    "elif distance>=300 and distance<400:\n",
    "    print(\"I'll go via train\")\n",
    "elif distance>=400:\n",
    "    print(\"I'll go via Flight\")\n",
    "else:\n",
    "    print(\"enter vaild distance \")\n",
    "print(\"Avishekh\")"
   ]
  },
  {
   "cell_type": "markdown",
   "metadata": {},
   "source": [
    "### Nested if-elif-else"
   ]
  },
  {
   "cell_type": "code",
   "execution_count": 20,
   "metadata": {},
   "outputs": [
    {
     "name": "stdout",
     "output_type": "stream",
     "text": [
      "enter the distance 120\n",
      "I'll go via cab\n",
      "enter the weathersunny\n",
      "I'll get break\n"
     ]
    }
   ],
   "source": [
    "distance=int(input(\"enter the distance \"))\n",
    "if distance>=0 and distance<100:\n",
    "    print(\"I'll go via bike\")\n",
    "elif distance>=100 and distance<200:\n",
    "    print(\"I'll go via cab\")\n",
    "    weather=input(\"enter the weather\") ## if I'll go via cab I'll get break when weather is sunny or otherwise I'll remain in cab itself  \n",
    "    if weather==\"sunny\":\n",
    "        print(\"I'll get break\")\n",
    "    else:\n",
    "        print(\"I'll remain in cab\")\n",
    "elif distance>=200 and distance<300:\n",
    "    print(\"I'll go via bus\")\n",
    "elif distance>=300 and distance<400:\n",
    "    print(\"I'll go via train\")\n",
    "elif distance>=400:                        ## if the distance will be more 400, I'll go via flight and   \n",
    "    print(\"I'll go via Flight\")             ##also if my flight is Airindia I'll carry home food \n",
    "    Flight=input(\"enter the Flight Name \") ### or if it'll be Indigo then I'll carry some light snacks,\n",
    "    if Flight==\"Indigo\":                      ###otherwise I won't carry anything\n",
    "        print(\"I'll carry my home food\")\n",
    "    elif Flight==\"Airindia\":\n",
    "        print(\"I'll carry some light snacks\")\n",
    "    else:\n",
    "        print(\"I won't carry anything\")\n",
    "else:\n",
    "    print(\"enter vaild distance \")\n",
    "print(\"Avishekh is Great Man\")"
   ]
  },
  {
   "cell_type": "code",
   "execution_count": 21,
   "metadata": {},
   "outputs": [
    {
     "name": "stdout",
     "output_type": "stream",
     "text": [
      "enter the distance 120\n",
      "I'll go via cab\n",
      "enter the weatherRainy\n",
      "I'll remain in cab\n",
      "Avishekh is Great Man\n"
     ]
    }
   ],
   "source": [
    "distance=int(input(\"enter the distance \"))\n",
    "if distance>=0 and distance<100:\n",
    "    print(\"I'll go via bike\")\n",
    "elif distance>=100 and distance<200:\n",
    "    print(\"I'll go via cab\")\n",
    "    weather=input(\"enter the weather\") ## if I'll go via cab I'll get break when weather is sunny or otherwise I'll remain in cab itself  \n",
    "    if weather==\"sunny\":\n",
    "        print(\"I'll get break\")\n",
    "    else:\n",
    "        print(\"I'll remain in cab\")\n",
    "elif distance>=200 and distance<300:\n",
    "    print(\"I'll go via bus\")\n",
    "elif distance>=300 and distance<400:\n",
    "    print(\"I'll go via train\")\n",
    "elif distance>=400:                        ## if the distance will be more 400, I'll go via flight and   \n",
    "    print(\"I'll go via Flight\")             ##also if my flight is Airindia I'll carry home food \n",
    "    Flight=input(\"enter the Flight Name \") ### or if it'll be Indigo then I'll carry some light snacks,\n",
    "    if Flight==\"Indigo\":                      ###otherwise I won't carry anything\n",
    "        print(\"I'll carry my home food\")\n",
    "    elif Flight==\"Airindia\":\n",
    "        print(\"I'll carry some light snacks\")\n",
    "    else:\n",
    "        print(\"I won't carry anything\")\n",
    "else:\n",
    "    print(\"enter vaild distance \")\n",
    "print(\"Avishekh is Great Man\")"
   ]
  },
  {
   "cell_type": "code",
   "execution_count": 22,
   "metadata": {},
   "outputs": [
    {
     "name": "stdout",
     "output_type": "stream",
     "text": [
      "enter the distance 420\n",
      "I'll go via Flight\n",
      "enter the Flight Name Indigo\n",
      "I'll carry my home food\n",
      "Avishekh is Great Man\n"
     ]
    }
   ],
   "source": [
    "distance=int(input(\"enter the distance \"))\n",
    "if distance>=0 and distance<100:\n",
    "    print(\"I'll go via bike\")\n",
    "elif distance>=100 and distance<200:\n",
    "    print(\"I'll go via cab\")\n",
    "    weather=input(\"enter the weather\") ## if I'll go via cab I'll get break when weather is sunny or otherwise I'll remain in cab itself  \n",
    "    if weather==\"sunny\":\n",
    "        print(\"I'll get break\")\n",
    "    else:\n",
    "        print(\"I'll remain in cab\")\n",
    "elif distance>=200 and distance<300:\n",
    "    print(\"I'll go via bus\")\n",
    "elif distance>=300 and distance<400:\n",
    "    print(\"I'll go via train\")\n",
    "elif distance>=400:                        ## if the distance will be more 400, I'll go via flight and   \n",
    "    print(\"I'll go via Flight\")             ##also if my flight is Airindia I'll carry home food \n",
    "    Flight=input(\"enter the Flight Name \") ### or if it'll be Indigo then I'll carry some light snacks,\n",
    "    if Flight==\"Indigo\":                      ###otherwise I won't carry anything\n",
    "        print(\"I'll carry my home food\")\n",
    "    elif Flight==\"Airindia\":\n",
    "        print(\"I'll carry some light snacks\")\n",
    "    else:\n",
    "        print(\"I won't carry anything\")\n",
    "else:\n",
    "    print(\"enter vaild distance \")\n",
    "print(\"Avishekh is Great Man\")"
   ]
  },
  {
   "cell_type": "code",
   "execution_count": 23,
   "metadata": {},
   "outputs": [
    {
     "name": "stdout",
     "output_type": "stream",
     "text": [
      "enter the distance 456\n",
      "I'll go via Flight\n",
      "enter the Flight Name Airindia\n",
      "I'll carry some light snacks\n",
      "Avishekh is Great Man\n"
     ]
    }
   ],
   "source": [
    "distance=int(input(\"enter the distance \"))\n",
    "if distance>=0 and distance<100:\n",
    "    print(\"I'll go via bike\")\n",
    "elif distance>=100 and distance<200:\n",
    "    print(\"I'll go via cab\")\n",
    "    weather=input(\"enter the weather\") ## if I'll go via cab I'll get break when weather is sunny or otherwise I'll remain in cab itself  \n",
    "    if weather==\"sunny\":\n",
    "        print(\"I'll get break\")\n",
    "    else:\n",
    "        print(\"I'll remain in cab\")\n",
    "elif distance>=200 and distance<300:\n",
    "    print(\"I'll go via bus\")\n",
    "elif distance>=300 and distance<400:\n",
    "    print(\"I'll go via train\")\n",
    "elif distance>=400:                        ## if the distance will be more 400, I'll go via flight and   \n",
    "    print(\"I'll go via Flight\")             ##also if my flight is Airindia I'll carry home food \n",
    "    Flight=input(\"enter the Flight Name \") ### or if it'll be Indigo then I'll carry some light snacks,\n",
    "    if Flight==\"Indigo\":                      ###otherwise I won't carry anything\n",
    "        print(\"I'll carry my home food\")\n",
    "    elif Flight==\"Airindia\":\n",
    "        print(\"I'll carry some light snacks\")\n",
    "    else:\n",
    "        print(\"I won't carry anything\")\n",
    "else:\n",
    "    print(\"enter vaild distance \")\n",
    "print(\"Avishekh is Great Man\")"
   ]
  },
  {
   "cell_type": "code",
   "execution_count": 24,
   "metadata": {},
   "outputs": [
    {
     "name": "stdout",
     "output_type": "stream",
     "text": [
      "enter the distance 459\n",
      "I'll go via Flight\n",
      "enter the Flight Name Aspice\n",
      "I won't carry anything\n",
      "Avishekh is Great Man\n"
     ]
    }
   ],
   "source": [
    "distance=int(input(\"enter the distance \"))\n",
    "if distance>=0 and distance<100:\n",
    "    print(\"I'll go via bike\")\n",
    "elif distance>=100 and distance<200:\n",
    "    print(\"I'll go via cab\")\n",
    "    weather=input(\"enter the weather\") ## if I'll go via cab I'll get break when weather is sunny or otherwise I'll remain in cab itself  \n",
    "    if weather==\"sunny\":\n",
    "        print(\"I'll get break\")\n",
    "    else:\n",
    "        print(\"I'll remain in cab\")\n",
    "elif distance>=200 and distance<300:\n",
    "    print(\"I'll go via bus\")\n",
    "elif distance>=300 and distance<400:\n",
    "    print(\"I'll go via train\")\n",
    "elif distance>=400:                        ## if the distance will be more 400, I'll go via flight and   \n",
    "    print(\"I'll go via Flight\")             ##also if my flight is Airindia I'll carry home food \n",
    "    Flight=input(\"enter the Flight Name \") ### or if it'll be Indigo then I'll carry some light snacks,\n",
    "    if Flight==\"Indigo\":                      ###otherwise I won't carry anything\n",
    "        print(\"I'll carry my home food\")\n",
    "    elif Flight==\"Airindia\":\n",
    "        print(\"I'll carry some light snacks\")\n",
    "    else:\n",
    "        print(\"I won't carry anything\")\n",
    "else:\n",
    "    print(\"enter vaild distance \")\n",
    "print(\"Avishekh is Great Man\")"
   ]
  },
  {
   "cell_type": "markdown",
   "metadata": {},
   "source": [
    "# Practise \n"
   ]
  },
  {
   "cell_type": "markdown",
   "metadata": {},
   "source": [
    "## WAP to display weather the entered number is odd or even "
   ]
  },
  {
   "cell_type": "code",
   "execution_count": 26,
   "metadata": {},
   "outputs": [
    {
     "name": "stdout",
     "output_type": "stream",
     "text": [
      "enter the number 6\n",
      "6 even num\n"
     ]
    }
   ],
   "source": [
    "a=int(input(\"enter the number \"))\n",
    "if a%2==0:\n",
    "    print(a,\"even num\")\n",
    "else:\n",
    "    print(a,\"odd num\")\n"
   ]
  },
  {
   "cell_type": "code",
   "execution_count": 27,
   "metadata": {},
   "outputs": [
    {
     "name": "stdout",
     "output_type": "stream",
     "text": [
      "enter the number 7\n",
      "7 odd num\n"
     ]
    }
   ],
   "source": [
    "a=int(input(\"enter the number \"))\n",
    "if a%2==0:\n",
    "    print(a,\"even num\")\n",
    "else:\n",
    "    print(a,\"odd num\")"
   ]
  },
  {
   "cell_type": "markdown",
   "metadata": {},
   "source": [
    "# WAP to display weather the entered num is +ve or -ve "
   ]
  },
  {
   "cell_type": "code",
   "execution_count": 28,
   "metadata": {},
   "outputs": [
    {
     "name": "stdout",
     "output_type": "stream",
     "text": [
      "enter the number 3\n",
      "the 3 is positive\n"
     ]
    }
   ],
   "source": [
    "a=int(input(\"enter the number \"))\n",
    "if a>0:\n",
    "    print(\"the\", a,\"is positive\")\n",
    "elif a<0:\n",
    "    print(\"the\", a,\"is negative\")\n",
    "else:\n",
    "    print(\"the\",a,\"zero\")"
   ]
  },
  {
   "cell_type": "code",
   "execution_count": 29,
   "metadata": {},
   "outputs": [
    {
     "name": "stdout",
     "output_type": "stream",
     "text": [
      "enter the number -66\n",
      "the -66 is negative\n"
     ]
    }
   ],
   "source": [
    "a=int(input(\"enter the number \"))\n",
    "if a>0:\n",
    "    print(\"the\", a,\"is positive\")\n",
    "elif a<0:\n",
    "    print(\"the\", a,\"is negative\")\n",
    "else:\n",
    "    print(\"the\",a,\"zero\")"
   ]
  },
  {
   "cell_type": "markdown",
   "metadata": {},
   "source": [
    "# WAP to display whether the entered number is divisible by 5 only , by 6 only , by both 5 and 6"
   ]
  },
  {
   "cell_type": "code",
   "execution_count": 30,
   "metadata": {},
   "outputs": [
    {
     "name": "stdout",
     "output_type": "stream",
     "text": [
      "enter the Number 30\n",
      "the 30 is divisible by 5 & 6 \n"
     ]
    }
   ],
   "source": [
    "a=int(input(\"enter the Number \"))\n",
    "if a%5==0 and a%6==0:\n",
    "    print(\"the\",a,\"is divisible by 5 & 6 \")\n",
    "elif a%5==0:\n",
    "    print(\"the\",a,\"is divisible by 5 only \")\n",
    "elif a%6==0:\n",
    "    print(\"the\",a,\"is divisible by 6 only \")\n",
    "else:\n",
    "    print(\"the\",a,\"is not divisible by 5 or 6 \")\n"
   ]
  },
  {
   "cell_type": "code",
   "execution_count": 31,
   "metadata": {},
   "outputs": [
    {
     "name": "stdout",
     "output_type": "stream",
     "text": [
      "enter the Number 42\n",
      "the 42 is divisible by 6 only \n"
     ]
    }
   ],
   "source": [
    "a=int(input(\"enter the Number \"))\n",
    "if a%5==0 and a%6==0:\n",
    "    print(\"the\",a,\"is divisible by 5 & 6 \")\n",
    "elif a%5==0:\n",
    "    print(\"the\",a,\"is divisible by 5 only \")\n",
    "elif a%6==0:\n",
    "    print(\"the\",a,\"is divisible by 6 only \")\n",
    "else:\n",
    "    print(\"the\",a,\"is not divisible by 5 or 6 \")\n"
   ]
  },
  {
   "cell_type": "code",
   "execution_count": 32,
   "metadata": {},
   "outputs": [
    {
     "name": "stdout",
     "output_type": "stream",
     "text": [
      "enter the Number 45\n",
      "the 45 is divisible by 5 only \n"
     ]
    }
   ],
   "source": [
    "a=int(input(\"enter the Number \"))\n",
    "if a%5==0 and a%6==0:\n",
    "    print(\"the\",a,\"is divisible by 5 & 6 \")\n",
    "elif a%5==0:\n",
    "    print(\"the\",a,\"is divisible by 5 only \")\n",
    "elif a%6==0:\n",
    "    print(\"the\",a,\"is divisible by 6 only \")\n",
    "else:\n",
    "    print(\"the\",a,\"is not divisible by 5 or 6 \")\n",
    "\n",
    "    "
   ]
  },
  {
   "cell_type": "code",
   "execution_count": 33,
   "metadata": {},
   "outputs": [
    {
     "name": "stdout",
     "output_type": "stream",
     "text": [
      "enter the Number 99\n",
      "the 99 is not divisible by 5 or 6 \n"
     ]
    }
   ],
   "source": [
    "a=int(input(\"enter the Number \"))\n",
    "if a%5==0 and a%6==0:\n",
    "    print(\"the\",a,\"is divisible by 5 & 6 \")\n",
    "elif a%5==0:\n",
    "    print(\"the\",a,\"is divisible by 5 only \")\n",
    "elif a%6==0:\n",
    "    print(\"the\",a,\"is divisible by 6 only \")\n",
    "else:\n",
    "    print(\"the\",a,\"is not divisible by 5 or 6 \")\n"
   ]
  },
  {
   "cell_type": "markdown",
   "metadata": {},
   "source": [
    "# WAP to display whether the entered number is divisible by 5 only , by 6 only , by both 5 and 6 with nested"
   ]
  },
  {
   "cell_type": "code",
   "execution_count": 35,
   "metadata": {},
   "outputs": [
    {
     "name": "stdout",
     "output_type": "stream",
     "text": [
      "enter the number 30\n",
      "the 30 is divisible by both 5 & 6 \n"
     ]
    }
   ],
   "source": [
    "a=int(input(\"enter the number \"))\n",
    "if a%5==0:\n",
    "    if a%6==0:\n",
    "        print(\"the\",a,\"is divisible by both 5 & 6 \")\n",
    "    else:\n",
    "        print(\"the\",a,\"is divisible by 5 only \")\n",
    "elif a%6==0:\n",
    "    print(\"the\",a,\"is divisible by 6 only \")\n",
    "else:\n",
    "    print(\"the\",a,\"is not divisible by 5 & 6\")"
   ]
  },
  {
   "cell_type": "code",
   "execution_count": 36,
   "metadata": {},
   "outputs": [
    {
     "name": "stdout",
     "output_type": "stream",
     "text": [
      "enter the number 76\n",
      "the 76 is not divisible by 5 & 6\n"
     ]
    }
   ],
   "source": [
    "a=int(input(\"enter the number \"))\n",
    "if a%5==0:\n",
    "    if a%6==0:\n",
    "        print(\"the\",a,\"is divisible by both 5 & 6 \")\n",
    "    else:\n",
    "        print(\"the\",a,\"is divisible by 5 only \")\n",
    "elif a%6==0:\n",
    "    print(\"the\",a,\"is divisible by 6 only \")\n",
    "else:\n",
    "    print(\"the\",a,\"is not divisible by 5 & 6\")"
   ]
  },
  {
   "cell_type": "code",
   "execution_count": 37,
   "metadata": {},
   "outputs": [
    {
     "name": "stdout",
     "output_type": "stream",
     "text": [
      "enter the number 36\n",
      "the 36 is divisible by 6 only \n"
     ]
    }
   ],
   "source": [
    "a=int(input(\"enter the number \"))\n",
    "if a%5==0:\n",
    "    if a%6==0:\n",
    "        print(\"the\",a,\"is divisible by both 5 & 6 \")\n",
    "    else:\n",
    "        print(\"the\",a,\"is divisible by 5 only \")\n",
    "elif a%6==0:\n",
    "    print(\"the\",a,\"is divisible by 6 only \")\n",
    "else:\n",
    "    print(\"the\",a,\"is not divisible by 5 & 6\")\n",
    "    "
   ]
  },
  {
   "cell_type": "code",
   "execution_count": 38,
   "metadata": {},
   "outputs": [
    {
     "name": "stdout",
     "output_type": "stream",
     "text": [
      "enter the number 45\n",
      "the 45 is divisible by 5 only \n"
     ]
    }
   ],
   "source": [
    "a=int(input(\"enter the number \"))\n",
    "if a%5==0:\n",
    "    if a%6==0:\n",
    "        print(\"the\",a,\"is divisible by both 5 & 6 \")\n",
    "    else:\n",
    "        print(\"the\",a,\"is divisible by 5 only \")\n",
    "elif a%6==0:\n",
    "    print(\"the\",a,\"is divisible by 6 only \")\n",
    "else:\n",
    "    print(\"the\",a,\"is not divisible by 5 & 6\")"
   ]
  },
  {
   "cell_type": "markdown",
   "metadata": {},
   "source": [
    "# WAP to check whether you are eligible for voting or not"
   ]
  },
  {
   "cell_type": "code",
   "execution_count": 1,
   "metadata": {},
   "outputs": [
    {
     "name": "stdout",
     "output_type": "stream",
     "text": [
      "enter the age 19\n",
      "you are eligible for voting \n"
     ]
    }
   ],
   "source": [
    "age=int(input(\"enter the age \"))\n",
    "if age>18:\n",
    "    print(\"you are eligible for voting \")\n",
    "else:\n",
    "    print(\"you are not eligible for voting\")"
   ]
  },
  {
   "cell_type": "code",
   "execution_count": 3,
   "metadata": {},
   "outputs": [
    {
     "name": "stdout",
     "output_type": "stream",
     "text": [
      "enter the age 0\n",
      "you are not eligible for voting\n"
     ]
    }
   ],
   "source": [
    "age=int(input(\"enter the age \"))\n",
    "if age>18:\n",
    "    print(\"you are eligible for voting \")\n",
    "else:\n",
    "    print(\"you are not eligible for voting\")"
   ]
  },
  {
   "cell_type": "code",
   "execution_count": 4,
   "metadata": {},
   "outputs": [
    {
     "name": "stdout",
     "output_type": "stream",
     "text": [
      "enter the age60\n",
      "You are eligible for Voting\n",
      "go by cab\n"
     ]
    }
   ],
   "source": [
    "age=int(input(\"enter the age\"))\n",
    "if age>=18:\n",
    "    print(\"You are eligible for Voting\")\n",
    "    if age>=50:\n",
    "        print(\"go by cab\") \n",
    "    else:\n",
    "        print(\"go by walk\")\n",
    "elif age<18:\n",
    "    print(\"You are not eligible for voting\")"
   ]
  },
  {
   "cell_type": "code",
   "execution_count": 10,
   "metadata": {},
   "outputs": [
    {
     "name": "stdout",
     "output_type": "stream",
     "text": [
      "enter the age 64\n",
      "you are senior citizen\n"
     ]
    }
   ],
   "source": [
    "age=int(input(\"enter the age \"))\n",
    "if age>0 and age<18:\n",
    "    print(\"you are not eligible for voting\")\n",
    "elif age>=18:\n",
    "    if age>=60:\n",
    "        print(\"you are senior citizen\")\n",
    "    else:\n",
    "        print(\"you are not senior citizen\")\n",
    "else:\n",
    "    print(\"you are eligible for voting\")\n"
   ]
  },
  {
   "cell_type": "code",
   "execution_count": 13,
   "metadata": {},
   "outputs": [
    {
     "name": "stdout",
     "output_type": "stream",
     "text": [
      "enter the age 17\n",
      "you are not eligible for voting\n"
     ]
    }
   ],
   "source": [
    "age=int(input(\"enter the age \"))\n",
    "if age>0 and age<18:\n",
    "    print(\"you are not eligible for voting\")\n",
    "elif age>=18:\n",
    "    print(\"you are eligible for voting\")\n",
    "    if age>=60:\n",
    "        print(\"you are senior citizen\")\n",
    "    else:\n",
    "        print(\"you are not senior citizen\")\n",
    "        \n"
   ]
  },
  {
   "cell_type": "code",
   "execution_count": 12,
   "metadata": {},
   "outputs": [
    {
     "name": "stdout",
     "output_type": "stream",
     "text": [
      "enter the age 64\n",
      "you are eligible for voting\n",
      "you are senior citizen\n"
     ]
    }
   ],
   "source": [
    "age=int(input(\"enter the age \"))\n",
    "if age>0 and age<18:\n",
    "    print(\"you are not eligible for voting\")\n",
    "elif age>=18:\n",
    "    print(\"you are eligible for voting\")\n",
    "    if age>=60:\n",
    "        print(\"you are senior citizen\")\n",
    "    else:\n",
    "        print(\"you are not senior citizen\")"
   ]
  },
  {
   "cell_type": "markdown",
   "metadata": {},
   "source": [
    "# WAP to display the greater the number from two numbers entered by user\n"
   ]
  },
  {
   "cell_type": "code",
   "execution_count": 5,
   "metadata": {},
   "outputs": [
    {
     "name": "stdout",
     "output_type": "stream",
     "text": [
      "enter First Num 6\n",
      "enter Second Num 9\n",
      "9 is greater than  6\n"
     ]
    }
   ],
   "source": [
    "a=int(input(\"enter First Num \"))\n",
    "b=int(input(\"enter Second Num \"))\n",
    "if a>b:\n",
    "    print(a,\"is greater than\", b)\n",
    "elif b>a:\n",
    "    print(b,\"is greater than \", a)\n",
    "else:\n",
    "    print(a, \"and\", b, \"are equal\")"
   ]
  },
  {
   "cell_type": "markdown",
   "metadata": {},
   "source": [
    "# WAP to display the greater the number from three numbers entered by user\n"
   ]
  },
  {
   "cell_type": "code",
   "execution_count": 20,
   "metadata": {},
   "outputs": [
    {
     "name": "stdout",
     "output_type": "stream",
     "text": [
      "enter First Num 2\n",
      "enter Second Num 2\n",
      "enter the Third Num 2\n",
      "all are equal\n"
     ]
    }
   ],
   "source": [
    "a=int(input(\"enter First Num \"))\n",
    "b=int(input(\"enter Second Num \"))\n",
    "c=int(input(\"enter the Third Num \"))\n",
    "if a>b and a>c:\n",
    "    print(a,\"is greater\")\n",
    "elif b>a and b>c:\n",
    "    print(b,\"is greater\")\n",
    "elif c>a and c>b:\n",
    "    print(c,\"is greater\")\n",
    "elif a==b and a>c:\n",
    "    print(a,\"is greater\")\n",
    "elif b==c and b>a:\n",
    "    print(b,\"is greater\")\n",
    "elif c==a and c>b:\n",
    "    print(c,\"is greater\")\n",
    "else:\n",
    "    print(\"all are equal\")\n",
    "\n",
    "\n",
    "\n",
    "\n"
   ]
  },
  {
   "cell_type": "markdown",
   "metadata": {},
   "source": [
    "## ord()    \n",
    "* used to get character from Ascii Value \n",
    "* A-Z(65-90) & a-z(97-122)"
   ]
  },
  {
   "cell_type": "code",
   "execution_count": 21,
   "metadata": {},
   "outputs": [
    {
     "data": {
      "text/plain": [
       "97"
      ]
     },
     "execution_count": 21,
     "metadata": {},
     "output_type": "execute_result"
    }
   ],
   "source": [
    "ord(\"a\")"
   ]
  },
  {
   "cell_type": "code",
   "execution_count": 22,
   "metadata": {},
   "outputs": [
    {
     "data": {
      "text/plain": [
       "72"
      ]
     },
     "execution_count": 22,
     "metadata": {},
     "output_type": "execute_result"
    }
   ],
   "source": [
    "ord(\"H\")"
   ]
  },
  {
   "cell_type": "code",
   "execution_count": 23,
   "metadata": {},
   "outputs": [
    {
     "data": {
      "text/plain": [
       "121"
      ]
     },
     "execution_count": 23,
     "metadata": {},
     "output_type": "execute_result"
    }
   ],
   "source": [
    "ord(\"y\")"
   ]
  },
  {
   "cell_type": "markdown",
   "metadata": {},
   "source": [
    "# WAP to display either the enter character is upper case or lower case  "
   ]
  },
  {
   "cell_type": "code",
   "execution_count": 29,
   "metadata": {},
   "outputs": [
    {
     "name": "stdout",
     "output_type": "stream",
     "text": [
      "enter the Character J\n",
      "It is in Upper Case\n"
     ]
    }
   ],
   "source": [
    "ch=input(\"enter the Character \")\n",
    "if ord(ch)>=65 and ord(ch)<=90:\n",
    "    print(\"It is in Upper Case\")\n",
    "elif ord(ch)>=97 and ord(ch)<=122:\n",
    "    print(\"It is in Lower Case\") \n",
    "else:\n",
    "    print(\"It is a special Character\")"
   ]
  },
  {
   "cell_type": "code",
   "execution_count": 30,
   "metadata": {},
   "outputs": [
    {
     "name": "stdout",
     "output_type": "stream",
     "text": [
      "enter the Character n\n",
      "It is in Lower Case\n"
     ]
    }
   ],
   "source": [
    "ch=input(\"enter the Character \")\n",
    "if ord(ch)>=65 and ord(ch)<=90:\n",
    "    print(\"It is in Upper Case\")\n",
    "elif ord(ch)>=97 and ord(ch)<=122:\n",
    "    print(\"It is in Lower Case\") \n",
    "else:\n",
    "    print(\"It is a special Character\")"
   ]
  },
  {
   "cell_type": "code",
   "execution_count": 31,
   "metadata": {},
   "outputs": [
    {
     "name": "stdout",
     "output_type": "stream",
     "text": [
      "enter the Character 3\n",
      "It is a special Character\n"
     ]
    }
   ],
   "source": [
    "ch=input(\"enter the Character \")\n",
    "if ord(ch)>=65 and ord(ch)<=90:\n",
    "    print(\"It is in Upper Case\")\n",
    "elif ord(ch)>=97 and ord(ch)<=122:\n",
    "    print(\"It is in Lower Case\") \n",
    "else:\n",
    "    print(\"It is a special Character\")"
   ]
  },
  {
   "cell_type": "code",
   "execution_count": null,
   "metadata": {},
   "outputs": [],
   "source": [
    "\n"
   ]
  }
 ],
 "metadata": {
  "kernelspec": {
   "display_name": "Python 3",
   "language": "python",
   "name": "python3"
  },
  "language_info": {
   "codemirror_mode": {
    "name": "ipython",
    "version": 3
   },
   "file_extension": ".py",
   "mimetype": "text/x-python",
   "name": "python",
   "nbconvert_exporter": "python",
   "pygments_lexer": "ipython3",
   "version": "3.8.5"
  }
 },
 "nbformat": 4,
 "nbformat_minor": 4
}
