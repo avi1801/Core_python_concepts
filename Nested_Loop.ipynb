{
 "cells": [
  {
   "cell_type": "markdown",
   "id": "db361191",
   "metadata": {},
   "source": [
    "## sign up "
   ]
  },
  {
   "cell_type": "code",
   "execution_count": 1,
   "id": "a1dd6b4f",
   "metadata": {},
   "outputs": [
    {
     "name": "stdout",
     "output_type": "stream",
     "text": [
      "Enter the username balmeet\n",
      "Enter the the password balmeet@123\n"
     ]
    }
   ],
   "source": [
    "username=input(\"Enter the username \")\n",
    "password=input(\"Enter the the password \")"
   ]
  },
  {
   "cell_type": "markdown",
   "id": "6698e32c",
   "metadata": {},
   "source": [
    "## login"
   ]
  },
  {
   "cell_type": "code",
   "execution_count": 4,
   "id": "6f30087d",
   "metadata": {},
   "outputs": [
    {
     "name": "stdout",
     "output_type": "stream",
     "text": [
      "enter the username balmeet\n",
      "enter the password balmeet@123\n",
      "welcome  balmeet !!!!!\n",
      "login successfully\n"
     ]
    }
   ],
   "source": [
    "while(True):\n",
    "    u=input(\"enter the username \")\n",
    "    p=input(\"enter the password \")\n",
    "    if ((username==u) and (password==p)):\n",
    "        print(\"welcome \", username,\"!!!!!\")\n",
    "        print(\"login successfully\")\n",
    "        break\n",
    "    else:\n",
    "        print(\"invalid details\\n\\n plz re-enter\")\n",
    "        "
   ]
  },
  {
   "cell_type": "markdown",
   "id": "2cc7ec53",
   "metadata": {},
   "source": [
    "## adding 5 attemps "
   ]
  },
  {
   "cell_type": "code",
   "execution_count": 6,
   "id": "699f4028",
   "metadata": {},
   "outputs": [
    {
     "name": "stdout",
     "output_type": "stream",
     "text": [
      "enter the username balmeet\n",
      "enter the password balmeet@123\n",
      "welcome  balmeet !!!!!\n",
      "login successfully in attemt : 0\n"
     ]
    }
   ],
   "source": [
    "attempt=0\n",
    "while(True):\n",
    "    if attempt==5:\n",
    "        print(\"u cross the limit\\n plz try next time\")\n",
    "        break\n",
    "    elif attempt<=5:\n",
    "        u=input(\"enter the username \")\n",
    "        p=input(\"enter the password \")\n",
    "        if ((username==u) and (password==p)):\n",
    "            print(\"welcome \", username,\"!!!!!\")\n",
    "            print(\"login successfully in attemt :\",attempt)\n",
    "            break\n",
    "        else:\n",
    "            attempt=attempt+1\n",
    "            print((\"invalid details \\n\\n \"))\n",
    "            continue"
   ]
  },
  {
   "cell_type": "markdown",
   "id": "b8e9cd5b",
   "metadata": {},
   "source": [
    "## nested loop \n",
    "- for - for\n",
    "- for - while\n",
    "- while - for\n",
    "- while - while"
   ]
  },
  {
   "cell_type": "markdown",
   "id": "3869d70b",
   "metadata": {},
   "source": [
    "## wap to point the table of the number which lies in the range entered by user\n"
   ]
  },
  {
   "cell_type": "code",
   "execution_count": 8,
   "id": "a811df66",
   "metadata": {},
   "outputs": [
    {
     "name": "stdout",
     "output_type": "stream",
     "text": [
      "Enter the start 2\n",
      "Enter the end 5\n",
      "2 * 1 = 2\n",
      "2 * 2 = 4\n",
      "2 * 3 = 6\n",
      "2 * 4 = 8\n",
      "2 * 5 = 10\n",
      "2 * 6 = 12\n",
      "2 * 7 = 14\n",
      "2 * 8 = 16\n",
      "2 * 9 = 18\n",
      "2 * 10 = 20\n",
      "---------------------\n",
      "3 * 1 = 3\n",
      "3 * 2 = 6\n",
      "3 * 3 = 9\n",
      "3 * 4 = 12\n",
      "3 * 5 = 15\n",
      "3 * 6 = 18\n",
      "3 * 7 = 21\n",
      "3 * 8 = 24\n",
      "3 * 9 = 27\n",
      "3 * 10 = 30\n",
      "---------------------\n",
      "4 * 1 = 4\n",
      "4 * 2 = 8\n",
      "4 * 3 = 12\n",
      "4 * 4 = 16\n",
      "4 * 5 = 20\n",
      "4 * 6 = 24\n",
      "4 * 7 = 28\n",
      "4 * 8 = 32\n",
      "4 * 9 = 36\n",
      "4 * 10 = 40\n",
      "---------------------\n",
      "5 * 1 = 5\n",
      "5 * 2 = 10\n",
      "5 * 3 = 15\n",
      "5 * 4 = 20\n",
      "5 * 5 = 25\n",
      "5 * 6 = 30\n",
      "5 * 7 = 35\n",
      "5 * 8 = 40\n",
      "5 * 9 = 45\n",
      "5 * 10 = 50\n",
      "---------------------\n"
     ]
    }
   ],
   "source": [
    "start=int(input(\"Enter the start \"))\n",
    "end=int(input(\"Enter the end \"))\n",
    "for num in range (start,end+1):\n",
    "    for i in range (1,11):\n",
    "        print(num,\"*\",i,\"=\",num*i)\n",
    "    print(\"---------------------\")"
   ]
  },
  {
   "cell_type": "markdown",
   "id": "2605e644",
   "metadata": {},
   "source": [
    "## wap to count the total vowels and consonants in the names of the list "
   ]
  },
  {
   "cell_type": "code",
   "execution_count": 11,
   "id": "2c4b7690",
   "metadata": {},
   "outputs": [
    {
     "name": "stdout",
     "output_type": "stream",
     "text": [
      "the vowels count is  14\n",
      "the consonant count is  21\n"
     ]
    }
   ],
   "source": [
    "names=[\"damini\",\"avishek\",\"tarun\",\"chirag\",\"sakshi\",\"viral\"]\n",
    "count_v=0\n",
    "count_c=0\n",
    "for n in names:\n",
    "    for ch in n:\n",
    "        if ch in \"aeiouAEIOU\":\n",
    "            count_v=count_v+1\n",
    "        else:\n",
    "            count_c=count_c+1\n",
    "print(\"the vowels count is \",count_v)\n",
    "print(\"the consonant count is \",count_c)"
   ]
  },
  {
   "cell_type": "markdown",
   "id": "4d6ab9a1",
   "metadata": {},
   "source": [
    "## wap to count the vowels and consonats of each names in the given list"
   ]
  },
  {
   "cell_type": "code",
   "execution_count": 12,
   "id": "74eb8737",
   "metadata": {},
   "outputs": [
    {
     "name": "stdout",
     "output_type": "stream",
     "text": [
      "the vowels count in damini is 3\n",
      "the consonant count in damini is  3\n",
      "___________________________________________\n",
      "the vowels count in avishek is 3\n",
      "the consonant count in avishek is  4\n",
      "___________________________________________\n",
      "the vowels count in tarun is 2\n",
      "the consonant count in tarun is  3\n",
      "___________________________________________\n",
      "the vowels count in chirag is 2\n",
      "the consonant count in chirag is  4\n",
      "___________________________________________\n",
      "the vowels count in sakshi is 2\n",
      "the consonant count in sakshi is  4\n",
      "___________________________________________\n",
      "the vowels count in viral is 2\n",
      "the consonant count in viral is  3\n",
      "___________________________________________\n"
     ]
    }
   ],
   "source": [
    "for n in names:\n",
    "    count_v=0\n",
    "    count_c=0\n",
    "    for ch in n:\n",
    "        if ch in \"aeiouAEIOU\":\n",
    "            count_v=count_v+1\n",
    "        else:\n",
    "            count_c=count_c+1\n",
    "    print(\"the vowels count in\",n,\"is\",count_v)\n",
    "    print(\"the consonant count in\",n,\"is \",count_c)\n",
    "    print(\"___________________________________________\")"
   ]
  },
  {
   "cell_type": "code",
   "execution_count": 13,
   "id": "224312ea",
   "metadata": {},
   "outputs": [
    {
     "name": "stdout",
     "output_type": "stream",
     "text": [
      "python\n",
      "perl\n"
     ]
    }
   ],
   "source": [
    "l=[\"c++\",\"java\",\"python\",\"c\",\"perl\"]\n",
    "for i in l:\n",
    "    if \"p\" in i:\n",
    "        print(i)\n",
    "   "
   ]
  },
  {
   "cell_type": "code",
   "execution_count": 14,
   "id": "0b04a200",
   "metadata": {},
   "outputs": [
    {
     "name": "stdout",
     "output_type": "stream",
     "text": [
      "Enter the start 2\n",
      "Enter the end 10\n",
      "2 is composite\n",
      "3 is composite\n",
      "4 is composite\n",
      "5 is composite\n",
      "6 is composite\n",
      "7 is composite\n",
      "8 is composite\n",
      "9 is composite\n",
      "10 is composite\n",
      "total prime is  0\n",
      "total composite is 9\n"
     ]
    }
   ],
   "source": [
    "start=int(input(\"Enter the start \"))\n",
    "end=int(input(\"Enter the end \"))\n",
    "count_p=0\n",
    "count_c=0\n",
    "for num in range (start,end+1):\n",
    "    count=0\n",
    "    #print(num)\n",
    "    for i in range (1,num+1):\n",
    "        if num%i==0:\n",
    "            count=count+i\n",
    "    if count==2:\n",
    "        print(num,\"is prime\")\n",
    "        count_p=count_p+1\n",
    "        \n",
    "    else:\n",
    "        print(num,\"is composite\")\n",
    "        count_c=count_c+1\n",
    "print(\"total prime is \",count_p)\n",
    "print(\"total composite is\",count_c)"
   ]
  },
  {
   "cell_type": "markdown",
   "id": "9e308388",
   "metadata": {},
   "source": [
    "## pattern question"
   ]
  },
  {
   "cell_type": "code",
   "execution_count": 2,
   "id": "88d5280a",
   "metadata": {},
   "outputs": [],
   "source": [
    "#####\n",
    "#####\n",
    "#####\n",
    "#####\n",
    "#####"
   ]
  },
  {
   "cell_type": "code",
   "execution_count": 8,
   "id": "ecf54b59",
   "metadata": {},
   "outputs": [
    {
     "name": "stdout",
     "output_type": "stream",
     "text": [
      "#####\n",
      "#####\n",
      "#####\n",
      "#####\n",
      "#####\n"
     ]
    }
   ],
   "source": [
    "for row in range (1,6):\n",
    "    for col in range (1,6):\n",
    "        print(\"#\",end=\"\")\n",
    "    print()"
   ]
  },
  {
   "cell_type": "markdown",
   "id": "5da44811",
   "metadata": {},
   "source": [
    "## Same Size pattern"
   ]
  },
  {
   "cell_type": "code",
   "execution_count": 12,
   "id": "8050fc92",
   "metadata": {},
   "outputs": [
    {
     "name": "stdout",
     "output_type": "stream",
     "text": [
      "enter the pattern size 5\n",
      "#####\n",
      "#####\n",
      "#####\n",
      "#####\n",
      "#####\n"
     ]
    }
   ],
   "source": [
    "size=int(input(\"enter the pattern size \" ))\n",
    "for row in range (1,size+1):\n",
    "    for col in range (1,size+1):\n",
    "        print(\"#\",end=\"\")\n",
    "    print()"
   ]
  },
  {
   "cell_type": "markdown",
   "id": "59a49e7d",
   "metadata": {},
   "source": [
    "1111\n",
    "2222\n",
    "3333\n",
    "4444\n",
    "5555\n",
    "6666"
   ]
  },
  {
   "cell_type": "code",
   "execution_count": 29,
   "id": "f6bc1853",
   "metadata": {},
   "outputs": [
    {
     "name": "stdout",
     "output_type": "stream",
     "text": [
      "1  1  1  1  \n",
      "2  2  2  2  \n",
      "3  3  3  3  \n",
      "4  4  4  4  \n",
      "5  5  5  5  \n",
      "6  6  6  6  \n"
     ]
    }
   ],
   "source": [
    "for row in range (1,7):\n",
    "    for col in range (1,5):\n",
    "        print(row,\" \",end=\"\")\n",
    "    print()"
   ]
  },
  {
   "cell_type": "markdown",
   "id": "a5d2dcf3",
   "metadata": {},
   "source": [
    "12345\n",
    "12345\n",
    "12345\n",
    "12345\n"
   ]
  },
  {
   "cell_type": "code",
   "execution_count": 27,
   "id": "c728fb16",
   "metadata": {},
   "outputs": [
    {
     "name": "stdout",
     "output_type": "stream",
     "text": [
      "12345\n",
      "12345\n",
      "12345\n",
      "12345\n",
      "12345\n"
     ]
    }
   ],
   "source": [
    "for row in range(1,6):\n",
    "    for col in range(1,6):\n",
    "        print(col,end=\"\")\n",
    "    print()"
   ]
  },
  {
   "cell_type": "markdown",
   "id": "a9c1717d",
   "metadata": {},
   "source": [
    "aaaa\n",
    "bbbb\n",
    "cccc\n",
    "dddd"
   ]
  },
  {
   "cell_type": "code",
   "execution_count": 4,
   "id": "b68ca072",
   "metadata": {},
   "outputs": [
    {
     "name": "stdout",
     "output_type": "stream",
     "text": [
      "aaaa\n",
      "bbbb\n",
      "cccc\n",
      "dddd\n"
     ]
    }
   ],
   "source": [
    "for row in range (97,101):\n",
    "    for col in range (1,5):\n",
    "        print(chr(row),end=\"\")\n",
    "    print()"
   ]
  },
  {
   "cell_type": "markdown",
   "id": "bb1560d2",
   "metadata": {},
   "source": [
    "0101\n",
    "0101\n",
    "0101\n",
    "0101"
   ]
  },
  {
   "cell_type": "code",
   "execution_count": 2,
   "id": "6bd1bfec",
   "metadata": {},
   "outputs": [
    {
     "name": "stdout",
     "output_type": "stream",
     "text": [
      "0101\n",
      "0101\n",
      "0101\n",
      "0101\n"
     ]
    }
   ],
   "source": [
    "for row in range (1,5):\n",
    "    d=0\n",
    "    for col in range (1,5):\n",
    "        print(d,end=\"\")\n",
    "        d=int(not(d))\n",
    "    print()"
   ]
  },
  {
   "cell_type": "markdown",
   "id": "205b07db",
   "metadata": {},
   "source": [
    "1212\n",
    "1212\n",
    "1212\n",
    "1212"
   ]
  },
  {
   "cell_type": "code",
   "execution_count": null,
   "id": "718c54ef",
   "metadata": {},
   "outputs": [],
   "source": [
    "for row in range (1,5):\n",
    "    d=1\n",
    "    for col in range (1,5):\n",
    "        print(d)"
   ]
  },
  {
   "cell_type": "markdown",
   "id": "79f91423",
   "metadata": {},
   "source": [
    "abcd\n",
    "efgh\n",
    "ijkl\n",
    "mnop"
   ]
  },
  {
   "cell_type": "code",
   "execution_count": 49,
   "id": "30389e7c",
   "metadata": {},
   "outputs": [
    {
     "name": "stdout",
     "output_type": "stream",
     "text": [
      "abcd\n",
      "efgh\n",
      "ijkl\n",
      "mnop\n"
     ]
    }
   ],
   "source": [
    "size=4\n",
    "count=0\n",
    "for ch_row in range (size):\n",
    "    for ch_col in range (size):\n",
    "        print(chr(97+count),end=\"\")\n",
    "        count+=1\n",
    "    print()"
   ]
  },
  {
   "cell_type": "markdown",
   "id": "1063ad10",
   "metadata": {},
   "source": [
    "## OR"
   ]
  },
  {
   "cell_type": "code",
   "execution_count": 7,
   "id": "153701dc",
   "metadata": {},
   "outputs": [
    {
     "name": "stdout",
     "output_type": "stream",
     "text": [
      "enter the size 4\n",
      "abcd\n",
      "efgh\n",
      "ijkl\n",
      "mnop\n"
     ]
    }
   ],
   "source": [
    "asc=97 \n",
    "size=int(input(\"enter the size \"))\n",
    "for row in range (1,size+1):\n",
    "    for col in range (1,size+1):\n",
    "        print(chr(asc),end=\"\")\n",
    "        asc=asc+1\n",
    "    print()"
   ]
  },
  {
   "cell_type": "code",
   "execution_count": 6,
   "id": "c7d31296",
   "metadata": {},
   "outputs": [],
   "source": [
    "#\n",
    "##\n",
    "###\n",
    "####\n",
    "#####\n",
    "######"
   ]
  },
  {
   "cell_type": "code",
   "execution_count": null,
   "id": "18b24380",
   "metadata": {},
   "outputs": [],
   "source": [
    "#####\n",
    "####\n",
    "###\n",
    "##\n",
    "#"
   ]
  },
  {
   "cell_type": "code",
   "execution_count": null,
   "id": "4dfff19e",
   "metadata": {},
   "outputs": [],
   "source": []
  }
 ],
 "metadata": {
  "kernelspec": {
   "display_name": "Python 3 (ipykernel)",
   "language": "python",
   "name": "python3"
  },
  "language_info": {
   "codemirror_mode": {
    "name": "ipython",
    "version": 3
   },
   "file_extension": ".py",
   "mimetype": "text/x-python",
   "name": "python",
   "nbconvert_exporter": "python",
   "pygments_lexer": "ipython3",
   "version": "3.10.9"
  }
 },
 "nbformat": 4,
 "nbformat_minor": 5
}
