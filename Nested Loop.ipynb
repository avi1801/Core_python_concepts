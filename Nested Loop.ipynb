{
 "cells": [
  {
   "cell_type": "markdown",
   "metadata": {},
   "source": [
    "# Nested Loop "
   ]
  },
  {
   "cell_type": "markdown",
   "metadata": {},
   "source": [
    "* for-for \n",
    "* for-while\n",
    "* while-for\n",
    "* while-while"
   ]
  },
  {
   "cell_type": "markdown",
   "metadata": {},
   "source": [
    "## WAP to print the table of the table num which lies in the range entered by users "
   ]
  },
  {
   "cell_type": "code",
   "execution_count": 2,
   "metadata": {},
   "outputs": [
    {
     "name": "stdout",
     "output_type": "stream",
     "text": [
      "enter the start 2\n",
      "enter the end 5\n",
      "2 * 1 = 2\n",
      "2 * 2 = 4\n",
      "2 * 3 = 6\n",
      "2 * 4 = 8\n",
      "2 * 5 = 10\n",
      "2 * 6 = 12\n",
      "2 * 7 = 14\n",
      "2 * 8 = 16\n",
      "2 * 9 = 18\n",
      "2 * 10 = 20\n",
      "_____________________________\n",
      "3 * 1 = 3\n",
      "3 * 2 = 6\n",
      "3 * 3 = 9\n",
      "3 * 4 = 12\n",
      "3 * 5 = 15\n",
      "3 * 6 = 18\n",
      "3 * 7 = 21\n",
      "3 * 8 = 24\n",
      "3 * 9 = 27\n",
      "3 * 10 = 30\n",
      "_____________________________\n",
      "4 * 1 = 4\n",
      "4 * 2 = 8\n",
      "4 * 3 = 12\n",
      "4 * 4 = 16\n",
      "4 * 5 = 20\n",
      "4 * 6 = 24\n",
      "4 * 7 = 28\n",
      "4 * 8 = 32\n",
      "4 * 9 = 36\n",
      "4 * 10 = 40\n",
      "_____________________________\n",
      "5 * 1 = 5\n",
      "5 * 2 = 10\n",
      "5 * 3 = 15\n",
      "5 * 4 = 20\n",
      "5 * 5 = 25\n",
      "5 * 6 = 30\n",
      "5 * 7 = 35\n",
      "5 * 8 = 40\n",
      "5 * 9 = 45\n",
      "5 * 10 = 50\n",
      "_____________________________\n"
     ]
    }
   ],
   "source": [
    "start=int(input(\"enter the start \"))\n",
    "end=int(input(\"enter the end \"))\n",
    "for num in range(start,end+1):\n",
    "    for i in range(1,11):\n",
    "        print(num,\"*\",i,\"=\",num*i)\n",
    "    print(\"_____________________________\")\n"
   ]
  },
  {
   "cell_type": "markdown",
   "metadata": {},
   "source": [
    "## WAP to count the total vowels & consonants in the names of the list"
   ]
  },
  {
   "cell_type": "code",
   "execution_count": 4,
   "metadata": {},
   "outputs": [
    {
     "name": "stdout",
     "output_type": "stream",
     "text": [
      "the vowel count 10\n",
      "the consonants count 15\n"
     ]
    }
   ],
   "source": [
    "names=[\"Avishekh\",\"Damini\",\"Tarun\",\"raj\",\"Ram\"]\n",
    "count_v=0\n",
    "count_c=0\n",
    "for n in names:\n",
    "    for ch in n:\n",
    "        if ch in \"aeiouAEIOU\":\n",
    "            count_v=count_v+1\n",
    "        else:\n",
    "            count_c=count_c+1\n",
    "print(\"the vowel count\",count_v)\n",
    "print(\"the consonants count\",count_c)\n",
    "            \n",
    "        "
   ]
  },
  {
   "cell_type": "markdown",
   "metadata": {},
   "source": [
    "## WAP to count the vowels and consonants of each names in the given list"
   ]
  },
  {
   "cell_type": "code",
   "execution_count": 5,
   "metadata": {},
   "outputs": [
    {
     "name": "stdout",
     "output_type": "stream",
     "text": [
      "the vowel count in Avishekh is 3\n",
      "the consonants count in Avishekh is 5\n",
      "---------------------------------------\n",
      "the vowel count in Damini is 3\n",
      "the consonants count in Damini is 3\n",
      "---------------------------------------\n",
      "the vowel count in Tarun is 2\n",
      "the consonants count in Tarun is 3\n",
      "---------------------------------------\n",
      "the vowel count in raj is 1\n",
      "the consonants count in raj is 2\n",
      "---------------------------------------\n",
      "the vowel count in Ram is 1\n",
      "the consonants count in Ram is 2\n",
      "---------------------------------------\n"
     ]
    }
   ],
   "source": [
    "for n in names:\n",
    "    count_v=0\n",
    "    count_c=0\n",
    "    for ch in n:\n",
    "        if ch in \"aeiouAEIOU\":\n",
    "            count_v=count_v+1\n",
    "        else:\n",
    "            count_c=count_c+1\n",
    "    print(\"the vowel count in\",n,\"is\",count_v)\n",
    "    print(\"the consonants count in\",n,\"is\",count_c)\n",
    "    print(\"---------------------------------------\")\n",
    "            \n",
    "        "
   ]
  },
  {
   "cell_type": "code",
   "execution_count": 6,
   "metadata": {},
   "outputs": [
    {
     "name": "stdout",
     "output_type": "stream",
     "text": [
      "python\n",
      "perl\n"
     ]
    }
   ],
   "source": [
    "l=[\"c++\",\"python\",\"perl\",\"C\",\"java\"]\n",
    "for i in l:\n",
    "    if \"p\" in i:\n",
    "        print(i)\n"
   ]
  },
  {
   "cell_type": "code",
   "execution_count": 7,
   "metadata": {},
   "outputs": [
    {
     "name": "stdout",
     "output_type": "stream",
     "text": [
      "enter the start2\n",
      "enter the start10\n",
      "2 is composite\n",
      "3 is composite\n",
      "4 is prime\n",
      "5 is composite\n",
      "6 is composite\n",
      "7 is composite\n",
      "8 is composite\n",
      "9 is prime\n",
      "10 is composite\n",
      "total prime is  2\n",
      "total composite is  7\n"
     ]
    }
   ],
   "source": [
    "start=int(input(\"enter the start\"))\n",
    "end=int(input(\"enter the start\"))\n",
    "count_p=0\n",
    "count_c=0\n",
    "for num in range(start,end+1):\n",
    "    count=0\n",
    "    #print(num)\n",
    "    for i in range(1,num):\n",
    "        if num%i==0:\n",
    "            count=count+1\n",
    "    if count==2:\n",
    "        print(num,\"is prime\")\n",
    "        count_p=count_p+1\n",
    "    else:\n",
    "        print(num,\"is composite\")\n",
    "        count_c=count_c+1\n",
    "print(\"total prime is \", count_p)\n",
    "print(\"total composite is \", count_c)"
   ]
  },
  {
   "cell_type": "code",
   "execution_count": null,
   "metadata": {},
   "outputs": [],
   "source": []
  }
 ],
 "metadata": {
  "kernelspec": {
   "display_name": "Python 3",
   "language": "python",
   "name": "python3"
  },
  "language_info": {
   "codemirror_mode": {
    "name": "ipython",
    "version": 3
   },
   "file_extension": ".py",
   "mimetype": "text/x-python",
   "name": "python",
   "nbconvert_exporter": "python",
   "pygments_lexer": "ipython3",
   "version": "3.8.5"
  }
 },
 "nbformat": 4,
 "nbformat_minor": 4
}
