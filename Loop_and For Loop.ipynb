{
 "cells": [
  {
   "cell_type": "markdown",
   "id": "fd2b1b47",
   "metadata": {},
   "source": [
    "loop: means repetition\n",
    "  - for\n",
    "  - while\n",
    "  - nested \n",
    "  - jump statments"
   ]
  },
  {
   "cell_type": "markdown",
   "id": "85858a63",
   "metadata": {},
   "source": [
    "## for loop\n",
    " - with range\n",
    " - for traversal"
   ]
  },
  {
   "cell_type": "markdown",
   "id": "762f1543",
   "metadata": {},
   "source": [
    "## range(): It is in build function which generates the sequence of elements "
   ]
  },
  {
   "cell_type": "code",
   "execution_count": 2,
   "id": "35bc2810",
   "metadata": {},
   "outputs": [
    {
     "data": {
      "text/plain": [
       "[0, 1, 2, 3]"
      ]
     },
     "execution_count": 2,
     "metadata": {},
     "output_type": "execute_result"
    }
   ],
   "source": [
    "list(range(4)) # 4 is treated as end ,end-1"
   ]
  },
  {
   "cell_type": "code",
   "execution_count": 3,
   "id": "ca47f622",
   "metadata": {},
   "outputs": [
    {
     "data": {
      "text/plain": [
       "[1, 2, 3, 4, 5, 6, 7]"
      ]
     },
     "execution_count": 3,
     "metadata": {},
     "output_type": "execute_result"
    }
   ],
   "source": [
    "list(range(1,8))"
   ]
  },
  {
   "cell_type": "code",
   "execution_count": 4,
   "id": "17b5f483",
   "metadata": {},
   "outputs": [
    {
     "data": {
      "text/plain": [
       "[2, 3, 4, 5, 6, 7]"
      ]
     },
     "execution_count": 4,
     "metadata": {},
     "output_type": "execute_result"
    }
   ],
   "source": [
    "list(range(2,8))"
   ]
  },
  {
   "cell_type": "code",
   "execution_count": 6,
   "id": "833f55b8",
   "metadata": {},
   "outputs": [
    {
     "data": {
      "text/plain": [
       "[2, 4, 6, 8]"
      ]
     },
     "execution_count": 6,
     "metadata": {},
     "output_type": "execute_result"
    }
   ],
   "source": [
    "list(range(2,10,2))"
   ]
  },
  {
   "cell_type": "code",
   "execution_count": 7,
   "id": "50e9002d",
   "metadata": {},
   "outputs": [
    {
     "data": {
      "text/plain": [
       "[]"
      ]
     },
     "execution_count": 7,
     "metadata": {},
     "output_type": "execute_result"
    }
   ],
   "source": [
    "list(range(10,0))"
   ]
  },
  {
   "cell_type": "code",
   "execution_count": 8,
   "id": "ae491f6b",
   "metadata": {},
   "outputs": [
    {
     "data": {
      "text/plain": [
       "[10, 9, 8, 7, 6, 5, 4, 3, 2, 1]"
      ]
     },
     "execution_count": 8,
     "metadata": {},
     "output_type": "execute_result"
    }
   ],
   "source": [
    "list(range(10,0,-1))"
   ]
  },
  {
   "cell_type": "code",
   "execution_count": 9,
   "id": "33b07fd5",
   "metadata": {},
   "outputs": [
    {
     "data": {
      "text/plain": [
       "[]"
      ]
     },
     "execution_count": 9,
     "metadata": {},
     "output_type": "execute_result"
    }
   ],
   "source": [
    "list(range(10,0,2))"
   ]
  },
  {
   "cell_type": "code",
   "execution_count": 2,
   "id": "923668e5",
   "metadata": {},
   "outputs": [
    {
     "data": {
      "text/plain": [
       "[10, 8, 6, 4, 2]"
      ]
     },
     "execution_count": 2,
     "metadata": {},
     "output_type": "execute_result"
    }
   ],
   "source": [
    "list(range(10,0,-2))"
   ]
  },
  {
   "cell_type": "markdown",
   "id": "00a38f06",
   "metadata": {},
   "source": [
    "## for loop : with range"
   ]
  },
  {
   "cell_type": "markdown",
   "id": "cf8981e1",
   "metadata": {},
   "source": [
    "## wap to print the counting from 20 ro 50"
   ]
  },
  {
   "cell_type": "code",
   "execution_count": 6,
   "id": "8c1d35a9",
   "metadata": {},
   "outputs": [
    {
     "name": "stdout",
     "output_type": "stream",
     "text": [
      "20\n",
      "21\n",
      "22\n",
      "23\n",
      "24\n",
      "25\n",
      "26\n",
      "27\n",
      "28\n",
      "29\n",
      "30\n",
      "31\n",
      "32\n",
      "33\n",
      "34\n",
      "35\n",
      "36\n",
      "37\n",
      "38\n",
      "39\n",
      "40\n",
      "41\n",
      "42\n",
      "43\n",
      "44\n",
      "45\n",
      "46\n",
      "47\n",
      "48\n",
      "49\n",
      "50\n"
     ]
    }
   ],
   "source": [
    "for i in range (20,51):\n",
    "    print(i)"
   ]
  },
  {
   "cell_type": "markdown",
   "id": "1c29fccf",
   "metadata": {},
   "source": [
    "## write a programe to reverse the counting from 50 to 20"
   ]
  },
  {
   "cell_type": "code",
   "execution_count": 25,
   "id": "746c281b",
   "metadata": {},
   "outputs": [
    {
     "name": "stdout",
     "output_type": "stream",
     "text": [
      "50 49 48 47 46 45 44 43 42 41 40 39 38 37 36 35 34 33 32 31 30 29 28 27 26 25 24 23 22 21 20 "
     ]
    }
   ],
   "source": [
    "for i in range(50,19,-1):\n",
    "    print(i, end=\" \")"
   ]
  },
  {
   "cell_type": "code",
   "execution_count": 2,
   "id": "302e8733",
   "metadata": {},
   "outputs": [
    {
     "name": "stdout",
     "output_type": "stream",
     "text": [
      "Enter the Start 2\n",
      "Enter the end 10\n",
      "2 3 4 5 6 7 8 9 "
     ]
    }
   ],
   "source": [
    "start=int(input(\"Enter the Start \"))\n",
    "end=int(input(\"Enter the end \"))\n",
    "for i in range(start,end):\n",
    "    print(i,end=\" \")\n",
    "    "
   ]
  },
  {
   "cell_type": "code",
   "execution_count": 3,
   "id": "a74b685d",
   "metadata": {},
   "outputs": [
    {
     "name": "stdout",
     "output_type": "stream",
     "text": [
      "Enter the Start 2\n",
      "Enter the end 10\n",
      "2 3 4 5 6 7 8 9 10 "
     ]
    }
   ],
   "source": [
    "start=int(input(\"Enter the Start \"))\n",
    "end=int(input(\"Enter the end \"))\n",
    "for i in range(start,end+1):\n",
    "    print(i,end=\" \")\n",
    "    "
   ]
  },
  {
   "cell_type": "markdown",
   "id": "e15d6d66",
   "metadata": {},
   "source": [
    "## reverse method"
   ]
  },
  {
   "cell_type": "code",
   "execution_count": 8,
   "id": "4b043768",
   "metadata": {},
   "outputs": [
    {
     "name": "stdout",
     "output_type": "stream",
     "text": [
      "Enter the Start 30\n",
      "Enter the end 20\n",
      "30 29 28 27 26 25 24 23 22 21 "
     ]
    }
   ],
   "source": [
    "start=int(input(\"Enter the Start \"))\n",
    "end=int(input(\"Enter the end \"))\n",
    "for i in range(start,end,-1):\n",
    "    print(i,end=\" \")"
   ]
  },
  {
   "cell_type": "code",
   "execution_count": 9,
   "id": "af9fc66c",
   "metadata": {},
   "outputs": [
    {
     "name": "stdout",
     "output_type": "stream",
     "text": [
      "Enter the Start 30\n",
      "Enter the end 20\n",
      "30 29 28 27 26 25 24 23 22 21 20 "
     ]
    }
   ],
   "source": [
    "start=int(input(\"Enter the Start \"))\n",
    "end=int(input(\"Enter the end \"))\n",
    "for i in range(start,end-1,-1):\n",
    "    print(i,end=\" \")"
   ]
  },
  {
   "cell_type": "markdown",
   "id": "98b492a3",
   "metadata": {},
   "source": [
    "## Between 2 and 10"
   ]
  },
  {
   "cell_type": "code",
   "execution_count": 11,
   "id": "933a264d",
   "metadata": {},
   "outputs": [
    {
     "name": "stdout",
     "output_type": "stream",
     "text": [
      "Enter the Start 2\n",
      "Enter the end 10\n",
      "3 4 5 6 7 8 9 "
     ]
    }
   ],
   "source": [
    "start=int(input(\"Enter the Start \"))\n",
    "end=int(input(\"Enter the end \"))\n",
    "for i in range(start+1,end):\n",
    "    print(i,end=\" \")"
   ]
  },
  {
   "cell_type": "markdown",
   "id": "e682a87c",
   "metadata": {},
   "source": [
    "##  wap to display the sequence of number in alternate manner"
   ]
  },
  {
   "cell_type": "code",
   "execution_count": 14,
   "id": "b49f1a33",
   "metadata": {},
   "outputs": [
    {
     "name": "stdout",
     "output_type": "stream",
     "text": [
      "Enter the Start 1\n",
      "Enter the end 10\n",
      "1 3 5 7 9 "
     ]
    }
   ],
   "source": [
    "start=int(input(\"Enter the Start \"))\n",
    "end=int(input(\"Enter the end \"))\n",
    "for i in range(start,end+1,2):\n",
    "    print(i,end=\" \")"
   ]
  },
  {
   "cell_type": "markdown",
   "id": "ca98c8b2",
   "metadata": {},
   "source": [
    "## wap to generare this sequence  6,11,16,21,26,31,......,51\n"
   ]
  },
  {
   "cell_type": "code",
   "execution_count": 16,
   "id": "61940308",
   "metadata": {},
   "outputs": [
    {
     "name": "stdout",
     "output_type": "stream",
     "text": [
      "Enter the Start 6\n",
      "Enter the end 51\n",
      "6 11 16 21 26 31 36 41 46 51 "
     ]
    }
   ],
   "source": [
    "start=int(input(\"Enter the Start \"))\n",
    "end=int(input(\"Enter the end \"))\n",
    "for i in range(start,end+1,5):\n",
    "    print(i,end=\" \")"
   ]
  },
  {
   "cell_type": "markdown",
   "id": "7d0a183b",
   "metadata": {},
   "source": [
    "## 1,4,9,16,25,36........"
   ]
  },
  {
   "cell_type": "code",
   "execution_count": 6,
   "id": "e97aacf7",
   "metadata": {},
   "outputs": [
    {
     "name": "stdout",
     "output_type": "stream",
     "text": [
      "Enter the end 6\n",
      "1\n",
      "4\n",
      "9\n",
      "16\n",
      "25\n",
      "36\n"
     ]
    }
   ],
   "source": [
    "end=int(input(\"Enter the end \"))\n",
    "for i in range(1,end+1):\n",
    "    print(i**2)"
   ]
  },
  {
   "cell_type": "code",
   "execution_count": 7,
   "id": "75abc8e6",
   "metadata": {},
   "outputs": [
    {
     "name": "stdout",
     "output_type": "stream",
     "text": [
      "Enter the end 6\n",
      "1\n",
      "4\n",
      "9\n",
      "16\n",
      "25\n",
      "36\n"
     ]
    }
   ],
   "source": [
    "end=int(input(\"Enter the end \"))\n",
    "for i in range(1,end+1):\n",
    "    print(i*i)"
   ]
  },
  {
   "cell_type": "markdown",
   "id": "20932d3f",
   "metadata": {},
   "source": [
    "## wap to display all the even number and odd number from the range entered by user"
   ]
  },
  {
   "cell_type": "code",
   "execution_count": 8,
   "id": "a20aac44",
   "metadata": {},
   "outputs": [
    {
     "name": "stdout",
     "output_type": "stream",
     "text": [
      "enter the start 10\n",
      "enter the end 25\n",
      "10  is even 11  is odd 12  is even 13  is odd 14  is even 15  is odd 16  is even 17  is odd 18  is even 19  is odd 20  is even 21  is odd 22  is even 23  is odd 24  is even 25  is odd "
     ]
    }
   ],
   "source": [
    "start=int(input(\"enter the start \"))\n",
    "end=int(input(\"enter the end \"))\n",
    "for i in range (start,end+1):\n",
    "    if i%2==0:\n",
    "        print(i,\" is even\",end=\" \")\n",
    "    else:\n",
    "        print(i,\" is odd\",end=\" \")\n"
   ]
  },
  {
   "cell_type": "code",
   "execution_count": 9,
   "id": "45d8a791",
   "metadata": {},
   "outputs": [
    {
     "name": "stdout",
     "output_type": "stream",
     "text": [
      "enter the start 10\n",
      "enter the end 25\n",
      "10  is even\n",
      "11  is odd\n",
      "12  is even\n",
      "13  is odd\n",
      "14  is even\n",
      "15  is odd\n",
      "16  is even\n",
      "17  is odd\n",
      "18  is even\n",
      "19  is odd\n",
      "20  is even\n",
      "21  is odd\n",
      "22  is even\n",
      "23  is odd\n",
      "24  is even\n",
      "25  is odd\n"
     ]
    }
   ],
   "source": [
    "start=int(input(\"enter the start \"))\n",
    "end=int(input(\"enter the end \"))\n",
    "for i in range (start,end+1):\n",
    "    if i%2==0:\n",
    "        print(i,\" is even\")\n",
    "    else:\n",
    "        print(i,\" is odd\")"
   ]
  },
  {
   "cell_type": "markdown",
   "id": "3a09c156",
   "metadata": {},
   "source": [
    "## wap to display magic number if number is divisible by both 5 and 6, display normal number if it is divisible by 5 only or by 6 only otherwise bye from the range enterd by use"
   ]
  },
  {
   "cell_type": "code",
   "execution_count": 11,
   "id": "bd556e14",
   "metadata": {},
   "outputs": [
    {
     "name": "stdout",
     "output_type": "stream",
     "text": [
      "enter the start 10\n",
      "enter the end 30\n",
      "10  is normal number\n",
      "11  bye\n",
      "12  is normal number\n",
      "13  bye\n",
      "14  bye\n",
      "15  is normal number\n",
      "16  bye\n",
      "17  bye\n",
      "18  is normal number\n",
      "19  bye\n",
      "20  is normal number\n",
      "21  bye\n",
      "22  bye\n",
      "23  bye\n",
      "24  is normal number\n",
      "25  is normal number\n",
      "26  bye\n",
      "27  bye\n",
      "28  bye\n",
      "29  bye\n",
      "30  magic number\n"
     ]
    }
   ],
   "source": [
    "start=int(input(\"enter the start \"))\n",
    "end=int(input(\"enter the end \"))\n",
    "for i in range (start,end+1):\n",
    "    if i%5==0 and i%6==0:\n",
    "        print(i,\" magic number\")\n",
    "    elif i%5==0 or i%6==0:\n",
    "        print(i,\" is normal number\")\n",
    "    else:\n",
    "        print(i,\" bye\")"
   ]
  },
  {
   "cell_type": "markdown",
   "id": "45fae144",
   "metadata": {},
   "source": [
    "## wap to count the even number and odd number betweene the range entered by user and also dispaly them"
   ]
  },
  {
   "cell_type": "code",
   "execution_count": 13,
   "id": "08e24cbc",
   "metadata": {},
   "outputs": [
    {
     "name": "stdout",
     "output_type": "stream",
     "text": [
      "enter the start 3\n",
      "enter the end 15\n",
      "4  even\n",
      "5  odd\n",
      "6  even\n",
      "7  odd\n",
      "8  even\n",
      "9  odd\n",
      "10  even\n",
      "11  odd\n",
      "12  even\n",
      "13  odd\n",
      "14  even\n",
      "the even count is  6\n",
      "the even count is  5\n"
     ]
    }
   ],
   "source": [
    "start=int(input(\"enter the start \"))\n",
    "end=int(input(\"enter the end \"))\n",
    "count_e=0\n",
    "count_o=0\n",
    "for i in range (start+1,end):\n",
    "    if i%2==0:\n",
    "        print(i,\" even\")\n",
    "        count_e=count_e+1\n",
    "    else:\n",
    "        print(i,\" odd\")\n",
    "        count_o=count_o+1\n",
    "print(\"the even count is \", count_e)\n",
    "print(\"the even count is \", count_o)"
   ]
  },
  {
   "cell_type": "markdown",
   "id": "da7c1073",
   "metadata": {},
   "source": [
    "## wap to display the table of number enter by user"
   ]
  },
  {
   "cell_type": "code",
   "execution_count": 14,
   "id": "134696d0",
   "metadata": {},
   "outputs": [
    {
     "name": "stdout",
     "output_type": "stream",
     "text": [
      "enter the number5\n",
      "5 * 1 = 5\n",
      "5 * 2 = 10\n",
      "5 * 3 = 15\n",
      "5 * 4 = 20\n",
      "5 * 5 = 25\n",
      "5 * 6 = 30\n",
      "5 * 7 = 35\n",
      "5 * 8 = 40\n",
      "5 * 9 = 45\n",
      "5 * 10 = 50\n"
     ]
    }
   ],
   "source": [
    "num=int(input(\"enter the number\"))\n",
    "for i in range (1,11):\n",
    "    print(num,\"*\",i,\"=\",num*i)"
   ]
  },
  {
   "cell_type": "markdown",
   "id": "eaa6654e",
   "metadata": {},
   "source": [
    "## wap to display a table of the number entered by user reverse manner"
   ]
  },
  {
   "cell_type": "code",
   "execution_count": 39,
   "id": "88202840",
   "metadata": {},
   "outputs": [
    {
     "name": "stdout",
     "output_type": "stream",
     "text": [
      "enter the number 5\n",
      "5 * 10 = 50\n",
      "5 * 9 = 45\n",
      "5 * 8 = 40\n",
      "5 * 7 = 35\n",
      "5 * 6 = 30\n",
      "5 * 5 = 25\n",
      "5 * 4 = 20\n",
      "5 * 3 = 15\n",
      "5 * 2 = 10\n",
      "5 * 1 = 5\n"
     ]
    }
   ],
   "source": [
    "num=int(input(\"enter the number \"))\n",
    "for i in range (10,1-1,-1):\n",
    "    print(num,\"*\",i,\"=\",num*i)"
   ]
  },
  {
   "cell_type": "markdown",
   "id": "f731e489",
   "metadata": {},
   "source": [
    "## wap to dispaly the factors of the number entered by user and also dispaly the count of factors"
   ]
  },
  {
   "cell_type": "code",
   "execution_count": 19,
   "id": "c6cf99e0",
   "metadata": {},
   "outputs": [
    {
     "name": "stdout",
     "output_type": "stream",
     "text": [
      "enter the number 25\n",
      "1 is the factors of  25\n",
      "5 is the factors of  25\n",
      "25 is the factors of  25\n",
      "the factors count of  25  is 3\n"
     ]
    }
   ],
   "source": [
    "num=int(input(\"enter the number \"))\n",
    "count=0\n",
    "for i in range (1,num+1):\n",
    "    if num%i==0:\n",
    "        print(i,\"is the factors of \", num)\n",
    "        count=count+1\n",
    "print(\"the factors count of \",num,\" is\",count)"
   ]
  },
  {
   "cell_type": "markdown",
   "id": "211a4448",
   "metadata": {},
   "source": [
    "## wap to dispaly wheather the entered number is prime or composite "
   ]
  },
  {
   "cell_type": "code",
   "execution_count": 21,
   "id": "ceef0f14",
   "metadata": {},
   "outputs": [
    {
     "name": "stdout",
     "output_type": "stream",
     "text": [
      "enter the number 7\n",
      "1  is factors of  7\n",
      "7  is factors of  7\n",
      "7  is prime\n"
     ]
    }
   ],
   "source": [
    "num=int(input(\"enter the number \"))\n",
    "count=0\n",
    "for i in range (1,num+1):\n",
    "    if num%i==0:\n",
    "        print(i,\" is factors of \", num)\n",
    "        count=count+1\n",
    "if count==2:\n",
    "    print(num,\" is prime\")\n",
    "else:\n",
    "    print(num,\" is composite\")"
   ]
  },
  {
   "cell_type": "markdown",
   "id": "055e29be",
   "metadata": {},
   "source": [
    "## wap to display and count the vowels and consonants of your name "
   ]
  },
  {
   "cell_type": "code",
   "execution_count": 29,
   "id": "0f2e380e",
   "metadata": {},
   "outputs": [
    {
     "name": "stdout",
     "output_type": "stream",
     "text": [
      "Enter the word Tarun\n",
      "T  is not vowel\n",
      "a  is vowel\n",
      "r  is not vowel\n",
      "u  is vowel\n",
      "n  is not vowel\n",
      "the vowels counts is  2\n",
      "the others characters counts is  3\n"
     ]
    }
   ],
   "source": [
    "s=input(\"Enter the word \")\n",
    "count_v=0\n",
    "count_o=0\n",
    "for i in s:\n",
    "    if i in \"aeiouAEIOU\":\n",
    "        print(i,\" is vowel\")\n",
    "        count_v=count_v+1\n",
    "    else:\n",
    "        print(i,\" is not vowel\")\n",
    "        count_o=count_o+1\n",
    "print(\"the vowels counts is \",count_v)\n",
    "print(\"the others characters counts is \", count_o)"
   ]
  },
  {
   "cell_type": "markdown",
   "id": "3a0a6a28",
   "metadata": {},
   "source": [
    "## wap to count the number of even and odd number in the list"
   ]
  },
  {
   "cell_type": "code",
   "execution_count": 41,
   "id": "611f00c4",
   "metadata": {},
   "outputs": [
    {
     "name": "stdout",
     "output_type": "stream",
     "text": [
      "the even count is  4\n",
      "the odd count is  2\n"
     ]
    }
   ],
   "source": [
    "l=[12,13,14,100,90,345]\n",
    "count_e=0\n",
    "count_o=0\n",
    "for i in l:\n",
    "    if i%2==0:\n",
    "        count_e=count_e+1\n",
    "    else:\n",
    "        count_o=count_o+1\n",
    "print(\"the even count is \", count_e)\n",
    "print(\"the odd count is \", count_o)\n",
    "    "
   ]
  },
  {
   "cell_type": "markdown",
   "id": "4231b63d",
   "metadata": {},
   "source": [
    "## wap to display the sum of all the number present in the list"
   ]
  },
  {
   "cell_type": "code",
   "execution_count": 42,
   "id": "300e05bb",
   "metadata": {},
   "outputs": [
    {
     "data": {
      "text/plain": [
       "33"
      ]
     },
     "execution_count": 42,
     "metadata": {},
     "output_type": "execute_result"
    }
   ],
   "source": [
    "l=[10,2,3,5,6,7]\n",
    "sum(l)"
   ]
  },
  {
   "cell_type": "code",
   "execution_count": 50,
   "id": "b5c8a2b8",
   "metadata": {},
   "outputs": [
    {
     "name": "stdout",
     "output_type": "stream",
     "text": [
      "the sum is  33\n"
     ]
    }
   ],
   "source": [
    "l=[10,2,3,5,6,7]\n",
    "add=0\n",
    "for i in l:\n",
    "    add=add+i\n",
    "print(\"the sum is \",add)"
   ]
  },
  {
   "cell_type": "markdown",
   "id": "356ee62c",
   "metadata": {},
   "source": [
    "## wap to sum and average of those number in the range entered by the user"
   ]
  },
  {
   "cell_type": "code",
   "execution_count": 1,
   "id": "58cacd0b",
   "metadata": {},
   "outputs": [
    {
     "name": "stdout",
     "output_type": "stream",
     "text": [
      "enter the start 3\n",
      "enter the end 10\n",
      "52\n",
      "the average is  6.5\n"
     ]
    }
   ],
   "source": [
    "start=int(input(\"enter the start \"))\n",
    "end=int(input(\"enter the end \"))\n",
    "sum1=0\n",
    "count=0\n",
    "for i in range(start,end+1):\n",
    "    sum1=sum1+i\n",
    "    count=count+1\n",
    "print(sum1)\n",
    "avg=sum1/count\n",
    "print(\"the average is \",avg)"
   ]
  },
  {
   "cell_type": "markdown",
   "id": "4a2ec205",
   "metadata": {},
   "source": [
    "## wap to display the sum of even number and multiplication of odd number present in the list "
   ]
  },
  {
   "cell_type": "code",
   "execution_count": 6,
   "id": "aa9cd8fe",
   "metadata": {},
   "outputs": [
    {
     "name": "stdout",
     "output_type": "stream",
     "text": [
      "the sum is  42\n",
      "the multipication is 1\n"
     ]
    }
   ],
   "source": [
    "l=[10,10,1,2,10,10]\n",
    "sum1=0\n",
    "mult=1\n",
    "for i in l:\n",
    "    if i%2==0:\n",
    "        sum1=sum1+i\n",
    "    else:\n",
    "        mult=mult*i\n",
    "print(\"the sum is \",sum1)\n",
    "print(\"the multipication is\",mult)"
   ]
  },
  {
   "cell_type": "code",
   "execution_count": null,
   "id": "51e9c354",
   "metadata": {},
   "outputs": [],
   "source": []
  }
 ],
 "metadata": {
  "kernelspec": {
   "display_name": "Python 3 (ipykernel)",
   "language": "python",
   "name": "python3"
  },
  "language_info": {
   "codemirror_mode": {
    "name": "ipython",
    "version": 3
   },
   "file_extension": ".py",
   "mimetype": "text/x-python",
   "name": "python",
   "nbconvert_exporter": "python",
   "pygments_lexer": "ipython3",
   "version": "3.10.9"
  }
 },
 "nbformat": 4,
 "nbformat_minor": 5
}
